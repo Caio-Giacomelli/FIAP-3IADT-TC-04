{
  "cells": [
    {
      "cell_type": "markdown",
      "metadata": {
        "id": "view-in-github",
        "colab_type": "text"
      },
      "source": [
        "<a href=\"https://colab.research.google.com/github/Caio-Giacomelli/FIAP-3IADT-TC-04/blob/main/FIAP_3IADT_TC04.ipynb\" target=\"_parent\"><img src=\"https://colab.research.google.com/assets/colab-badge.svg\" alt=\"Open In Colab\"/></a>"
      ]
    },
    {
      "cell_type": "markdown",
      "source": [
        "# FIAP - IA Para Devs - Turma 3IADT 2024 - Trabalho 4\n",
        "### Caio Henrique Giacomelli         - RM 358131\n",
        "### Rafael Pereira Alonso            - RM 358127\n",
        "### Wagner Dominike Eugênio de Mello - RM 358565"
      ],
      "metadata": {
        "id": "DYuDauS-TiY6"
      }
    },
    {
      "cell_type": "markdown",
      "source": [
        "### Link do Github: https://github.com/Caio-Giacomelli/FIAP-3IADT-TC-04\n",
        "### Link do Youtube:"
      ],
      "metadata": {
        "id": "5t6GAi6sTsK4"
      }
    },
    {
      "cell_type": "markdown",
      "source": [
        "# Resumo\n",
        "\n",
        "Neste Tech Challenge, realizamos o desafio de implementar reconhecimento facial, análise de expressões emocionais, detecção de atividades em tempo real e geração de resumo destas atividades. Em conjunto, definimos uma anomalia e à detectamos em vídeo.\n",
        "\n",
        "\n",
        "O reconhecimento facial foi realizado de duas formas. Utilizamos haarcascades como classificador da biblioteca de cv2 em conjunto com Deep Face para identificar o rosto e mapear as emoções associadas ao rosto detectado, já também solucionando o segundo desafio, de análise de expressões emocionais. O método detect_face_expressions é o responsável por esta lógica. Também utilizamos o MediaPipe para identificação de rosto, porém utilizamos seus landmarks para definir anomalias, escolhendo a distância entre o nariz e a boca superiores ou inferiores à um limiar, para ser identificada como anomalia.\n",
        "\n",
        "A geração de resumo em tempo real foi realizada utilizando BlipProcessor e BlipForConditionalGeneration, da biblioteca de transformers.E para finalizar, resumimos as Captions e Emoções utilizando o Summarizer\n",
        "\n",
        "**Total de Frames analisados:** 3326\n",
        "\n",
        "**Total de Anomalias encontradas:** 35\n",
        "\n",
        "**Tempo total de processamento:** 32 minutos\n",
        "\n",
        "**Principais emoções encontradas:** Neutra, medo, felicidade, raiva, tristeza, surpresa\n"
      ],
      "metadata": {
        "id": "SP41166yXKpX"
      }
    },
    {
      "cell_type": "markdown",
      "source": [
        "# Importação de bibliotecas e Conexão com Drive"
      ],
      "metadata": {
        "id": "10vu00NrTwZf"
      }
    },
    {
      "cell_type": "code",
      "execution_count": 2,
      "metadata": {
        "id": "mtf0Hc-9BAur"
      },
      "outputs": [],
      "source": [
        "!pip install opencv-python mediapipe tqdm deepface transformers --quiet --use-deprecated=legacy-resolver"
      ]
    },
    {
      "cell_type": "code",
      "execution_count": 3,
      "metadata": {
        "id": "ESNlcTFbBJoD"
      },
      "outputs": [],
      "source": [
        "import cv2\n",
        "from tqdm import tqdm\n",
        "import mediapipe as mp\n",
        "from deepface import DeepFace\n",
        "from transformers import BlipProcessor, BlipForConditionalGeneration\n"
      ]
    },
    {
      "cell_type": "code",
      "execution_count": 4,
      "metadata": {
        "colab": {
          "base_uri": "https://localhost:8080/"
        },
        "id": "q_UPscVvBk8T",
        "outputId": "f6f5808f-e75a-424b-8dd3-cea21c4e0c07"
      },
      "outputs": [
        {
          "output_type": "stream",
          "name": "stdout",
          "text": [
            "Drive already mounted at /content/drive; to attempt to forcibly remount, call drive.mount(\"/content/drive\", force_remount=True).\n"
          ]
        }
      ],
      "source": [
        "from google.colab import drive\n",
        "drive.mount('/content/drive')"
      ]
    },
    {
      "cell_type": "markdown",
      "source": [
        "# Métodos para Detecção de Poses, expressões faciais e anomalias"
      ],
      "metadata": {
        "id": "2105GtPcT1Le"
      }
    },
    {
      "cell_type": "code",
      "execution_count": 5,
      "metadata": {
        "id": "ldFILg1_CCpb"
      },
      "outputs": [],
      "source": [
        "def detect_face_expressions(frame, face_cascade):\n",
        "  gray = cv2.cvtColor(frame, cv2.COLOR_BGR2GRAY)\n",
        "  faces = face_cascade.detectMultiScale(gray, scaleFactor=1.1, minNeighbors=10, minSize=(30, 30))\n",
        "\n",
        "  emotions_in_frame = []\n",
        "  for (x, y, w, h) in faces:\n",
        "    face_roi = frame[y:y+h, x:x+w]\n",
        "    try:\n",
        "      analysis = DeepFace.analyze(face_roi, actions=['emotion'], silent=True, enforce_detection=False)\n",
        "      emotion = analysis[0]['dominant_emotion']\n",
        "      cv2.rectangle(frame, (x, y), (x+w, y+h), (0, 255, 0), 2)\n",
        "      cv2.putText(frame, emotion, (x, y-10), cv2.FONT_HERSHEY_DUPLEX, 0.9, (0, 255, 0), 2)\n",
        "      emotions_in_frame.append(emotion)\n",
        "    except ValueError as e:\n",
        "      print(f\"Error analyzing face: {e}\")\n",
        "  return emotions_in_frame"
      ]
    },
    {
      "cell_type": "code",
      "execution_count": 6,
      "metadata": {
        "id": "WTjjFOnfCIgM"
      },
      "outputs": [],
      "source": [
        "def describe_frames(frames, processor, model, frame_width, frame_height):\n",
        "  inputs = processor(images=frames, return_tensors=\"pt\")\n",
        "  captions = model.generate(**inputs)\n",
        "  return [processor.decode(caption, skip_special_tokens=True) for caption in captions]"
      ]
    },
    {
      "cell_type": "code",
      "source": [
        "def detect_face_anomalies(frame, mp_face_mesh, face_mesh, mp_drawing):\n",
        "  rgb_frame = cv2.cvtColor(frame, cv2.COLOR_BGR2RGB)\n",
        "\n",
        "  results = face_mesh.process(rgb_frame)\n",
        "\n",
        "  anomaly_count = 0\n",
        "\n",
        "  if results.multi_face_landmarks:\n",
        "    for face_landmarks in results.multi_face_landmarks:\n",
        "      # Obter as coordenadas do bounding box do rosto a partir dos landmarks\n",
        "      x_coords = [landmark.x for landmark in face_landmarks.landmark]\n",
        "      y_coords = [landmark.y for landmark in face_landmarks.landmark]\n",
        "      x_min, x_max = min(x_coords), max(x_coords)\n",
        "      y_min, y_max = min(y_coords), max(y_coords)\n",
        "\n",
        "      frame_height, frame_width, _ = frame.shape\n",
        "      face_width = (x_max - x_min) * frame_width\n",
        "\n",
        "      # Anomalia: verificar a distância entre a boca e o nariz\n",
        "      # Acesse os landmarks usando os índices numéricos\n",
        "      nose_tip = face_landmarks.landmark[4]        # Ponto da ponta do nariz\n",
        "      upper_lip = face_landmarks.landmark[13]     # Ponto médio do lábio superior\n",
        "\n",
        "      # Converter coordenadas normalizadas para coordenadas de pixel\n",
        "      nose_tip_coords = (int(nose_tip.x * frame_width), int(nose_tip.y * frame_height))\n",
        "      upper_lip_coords = (int(upper_lip.x * frame_width), int(upper_lip.y * frame_height))\n",
        "\n",
        "      # Calcular a distância entre a ponta do nariz e o ponto médio do lábio superior\n",
        "      distance_nose_lip = math.dist(nose_tip_coords, upper_lip_coords)\n",
        "\n",
        "      # Normalizar a distância pela largura do rosto\n",
        "      normalized_distance = distance_nose_lip / face_width if face_width > 0 else 0\n",
        "\n",
        "      # Definir um limiar para anomalia\n",
        "      anomaly_threshold_min = 0.15\n",
        "      anomaly_threshold_max = 0.293\n",
        "\n",
        "      # print(f\"normalized_distance: \" + str(normalized_distance))\n",
        "      # print(f\"anomaly_threshold: \" + str(anomaly_threshold))\n",
        "\n",
        "      if normalized_distance <= anomaly_threshold_min or normalized_distance > anomaly_threshold_max:\n",
        "        # Marcar a anomalia\n",
        "        mid_point_x = int((nose_tip_coords[0] + upper_lip_coords[0]) / 2)\n",
        "        mid_point_y = int((nose_tip_coords[1] + upper_lip_coords[1]) / 2)\n",
        "        cv2.circle(frame, (mid_point_x, mid_point_y), radius=10, color=(0, 0, 255), thickness=-1)\n",
        "        print(f\"Anomalia na distância do nariz e boca detectada: {normalized_distance:.2f}).\")\n",
        "        anomaly_count += 1\n",
        "\n",
        "      # Desenhar os landmarks faciais\n",
        "      mp_drawing.draw_landmarks(\n",
        "          frame,\n",
        "          face_landmarks,\n",
        "          mp_face_mesh.FACEMESH_CONTOURS, # Ou outra opção de conexão\n",
        "          mp_drawing.DrawingSpec(color=(0, 255, 0), thickness=1, circle_radius=1),\n",
        "          mp_drawing.DrawingSpec(color=(0, 255, 0), thickness=1, circle_radius=1))\n",
        "\n",
        "  return anomaly_count"
      ],
      "metadata": {
        "id": "CDL8U7zy04mY"
      },
      "execution_count": 7,
      "outputs": []
    },
    {
      "cell_type": "code",
      "source": [
        "def detect_poses(frame, mp_pose, pose, mp_drawing):\n",
        "  rgb_frame = cv2.cvtColor(frame, cv2.COLOR_BGR2RGB)\n",
        "\n",
        "  results = pose.process(rgb_frame)\n",
        "\n",
        "  if results.pose_landmarks:\n",
        "      mp_drawing.draw_landmarks(frame, results.pose_landmarks, mp_pose.POSE_CONNECTIONS)"
      ],
      "metadata": {
        "id": "G9ImxpVoJYDD"
      },
      "execution_count": 8,
      "outputs": []
    },
    {
      "cell_type": "markdown",
      "source": [
        "# Implementação do Laço para coleta e processamento dos Frames"
      ],
      "metadata": {
        "id": "IDb_6fJoT7Za"
      }
    },
    {
      "cell_type": "code",
      "execution_count": 9,
      "metadata": {
        "id": "o2FlGk1dCKeH"
      },
      "outputs": [],
      "source": [
        "import math\n",
        "\n",
        "def process_video(video_path, output_path):\n",
        "  cap = cv2.VideoCapture(video_path)\n",
        "\n",
        "  if not cap.isOpened():\n",
        "    print(\"Erro ao abrir o vídeo.\")\n",
        "    return\n",
        "\n",
        "  width = int(cap.get(cv2.CAP_PROP_FRAME_WIDTH))\n",
        "  height = int(cap.get(cv2.CAP_PROP_FRAME_HEIGHT))\n",
        "  fps = int(cap.get(cv2.CAP_PROP_FPS))\n",
        "  total_frames = int(cap.get(cv2.CAP_PROP_FRAME_COUNT))\n",
        "\n",
        "  fourcc = cv2.VideoWriter_fourcc(*'mp4v')\n",
        "  out = cv2.VideoWriter(output_path, fourcc, fps, (width, height))\n",
        "\n",
        "  # frame describer\n",
        "  processor = BlipProcessor.from_pretrained(\"Salesforce/blip-image-captioning-base\")\n",
        "  model = BlipForConditionalGeneration.from_pretrained(\"Salesforce/blip-image-captioning-base\")\n",
        "\n",
        "  # face recognition\n",
        "  face_cascade = cv2.CascadeClassifier(cv2.data.haarcascades + 'haarcascade_frontalface_default.xml')\n",
        "\n",
        "  # pose recognition\n",
        "  mp_pose = mp.solutions.pose\n",
        "  pose = mp_pose.Pose()\n",
        "  mp_drawing = mp.solutions.drawing_utils\n",
        "\n",
        "  print(\"Iniciando coleta dos frames...\")\n",
        "  frames = []\n",
        "  for _ in tqdm(range(total_frames), desc=\"Coletando frames\"):\n",
        "    ret, frame = cap.read()\n",
        "\n",
        "    if not ret:\n",
        "      break\n",
        "\n",
        "    frames.append(frame)\n",
        "\n",
        "  print(\"Iniciando processamento...\")\n",
        "  batch_size = fps\n",
        "  total_batches = math.ceil(len(frames) / batch_size)\n",
        "  processed_seconds = []\n",
        "  total_anomaly_count = 0\n",
        "\n",
        "\n",
        "  mp_face_mesh = mp.solutions.face_mesh\n",
        "  face_mesh = mp_face_mesh.FaceMesh(static_image_mode=False, max_num_faces=1, min_detection_confidence=0.5)\n",
        "\n",
        "  for i in range(0, len(frames), batch_size):\n",
        "    batch_frames = frames[i:i + batch_size]\n",
        "    current_batch = (i // batch_size) + 1\n",
        "\n",
        "    # get description for a second of video\n",
        "    print(f\"Gerando descrições de frames...\")\n",
        "    captions = describe_frames(batch_frames[0], processor, model, width, height)\n",
        "    caption_text = captions[0]\n",
        "    emotions_in_fps = []\n",
        "\n",
        "    for frame in tqdm(batch_frames, desc=f\"Processando batch {current_batch}/{total_batches}\"):\n",
        "\n",
        "      # detect face expressions per frame\n",
        "      emotions_in_frame = detect_face_expressions(frame, face_cascade)\n",
        "      emotions_in_fps += emotions_in_frame\n",
        "\n",
        "      # detect anomaly\n",
        "      anomaly_count = detect_face_anomalies(frame, mp_face_mesh, face_mesh, mp_drawing)\n",
        "      total_anomaly_count += anomaly_count\n",
        "\n",
        "      # print description in frame\n",
        "      cv2.rectangle(frame, (0, height), (width, height - 70), (0, 0, 0), -1)\n",
        "      cv2.putText(frame, caption_text, (10, height - 30), cv2.FONT_HERSHEY_DUPLEX, 1, (0, 255, 255), 2)\n",
        "\n",
        "      # save frame in output video\n",
        "      out.write(frame)\n",
        "\n",
        "    processed_seconds.append({ 'caption': caption_text, 'emotions': set(emotions_in_fps) })\n",
        "  print(\"\\nProcessamento concluído!\")\n",
        "\n",
        "  cap.release()\n",
        "  out.release()\n",
        "  cv2.destroyAllWindows()\n",
        "  return { 'total_frames': len(frames), 'results_per_second': processed_seconds, 'anomaly_count': total_anomaly_count }"
      ]
    },
    {
      "cell_type": "markdown",
      "source": [
        "# Manipulação dos vídeos e inicialização do processamento"
      ],
      "metadata": {
        "id": "xdDh3R0jUDcM"
      }
    },
    {
      "cell_type": "code",
      "execution_count": 10,
      "metadata": {
        "colab": {
          "base_uri": "https://localhost:8080/"
        },
        "id": "of0lsO1gDrao",
        "outputId": "ae86246d-655e-4585-80ff-e48477b7e2a3"
      },
      "outputs": [
        {
          "output_type": "stream",
          "name": "stderr",
          "text": [
            "Using a slow image processor as `use_fast` is unset and a slow processor was saved with this model. `use_fast=True` will be the default behavior in v4.52, even if the model was saved with a slow processor. This will result in minor differences in outputs. You'll still be able to use a slow processor with `use_fast=False`.\n"
          ]
        },
        {
          "output_type": "stream",
          "name": "stdout",
          "text": [
            "Iniciando coleta dos frames...\n"
          ]
        },
        {
          "output_type": "stream",
          "name": "stderr",
          "text": [
            "Coletando frames: 100%|██████████| 3326/3326 [00:17<00:00, 192.59it/s]\n"
          ]
        },
        {
          "output_type": "stream",
          "name": "stdout",
          "text": [
            "Iniciando processamento...\n",
            "Gerando descrições de frames...\n"
          ]
        },
        {
          "output_type": "stream",
          "name": "stderr",
          "text": [
            "Processando batch 1/111: 100%|██████████| 30/30 [00:15<00:00,  1.89it/s]\n"
          ]
        },
        {
          "output_type": "stream",
          "name": "stdout",
          "text": [
            "Gerando descrições de frames...\n"
          ]
        },
        {
          "output_type": "stream",
          "name": "stderr",
          "text": [
            "Processando batch 2/111: 100%|██████████| 30/30 [00:11<00:00,  2.55it/s]\n"
          ]
        },
        {
          "output_type": "stream",
          "name": "stdout",
          "text": [
            "Gerando descrições de frames...\n"
          ]
        },
        {
          "output_type": "stream",
          "name": "stderr",
          "text": [
            "Processando batch 3/111: 100%|██████████| 30/30 [00:11<00:00,  2.65it/s]\n"
          ]
        },
        {
          "output_type": "stream",
          "name": "stdout",
          "text": [
            "Gerando descrições de frames...\n"
          ]
        },
        {
          "output_type": "stream",
          "name": "stderr",
          "text": [
            "Processando batch 4/111: 100%|██████████| 30/30 [00:11<00:00,  2.62it/s]\n"
          ]
        },
        {
          "output_type": "stream",
          "name": "stdout",
          "text": [
            "Gerando descrições de frames...\n"
          ]
        },
        {
          "output_type": "stream",
          "name": "stderr",
          "text": [
            "Processando batch 5/111: 100%|██████████| 30/30 [00:10<00:00,  2.83it/s]\n"
          ]
        },
        {
          "output_type": "stream",
          "name": "stdout",
          "text": [
            "Gerando descrições de frames...\n"
          ]
        },
        {
          "output_type": "stream",
          "name": "stderr",
          "text": [
            "Processando batch 6/111: 100%|██████████| 30/30 [00:10<00:00,  2.78it/s]\n"
          ]
        },
        {
          "output_type": "stream",
          "name": "stdout",
          "text": [
            "Gerando descrições de frames...\n"
          ]
        },
        {
          "output_type": "stream",
          "name": "stderr",
          "text": [
            "Processando batch 7/111: 100%|██████████| 30/30 [00:16<00:00,  1.78it/s]\n"
          ]
        },
        {
          "output_type": "stream",
          "name": "stdout",
          "text": [
            "Gerando descrições de frames...\n"
          ]
        },
        {
          "output_type": "stream",
          "name": "stderr",
          "text": [
            "Processando batch 8/111: 100%|██████████| 30/30 [00:16<00:00,  1.81it/s]\n"
          ]
        },
        {
          "output_type": "stream",
          "name": "stdout",
          "text": [
            "Gerando descrições de frames...\n"
          ]
        },
        {
          "output_type": "stream",
          "name": "stderr",
          "text": [
            "Processando batch 9/111:  40%|████      | 12/30 [00:06<00:09,  1.97it/s]"
          ]
        },
        {
          "output_type": "stream",
          "name": "stdout",
          "text": [
            "Anomalia na distância do nariz e boca detectada: 0.30).\n"
          ]
        },
        {
          "output_type": "stream",
          "name": "stderr",
          "text": [
            "Processando batch 9/111: 100%|██████████| 30/30 [00:16<00:00,  1.83it/s]\n"
          ]
        },
        {
          "output_type": "stream",
          "name": "stdout",
          "text": [
            "Gerando descrições de frames...\n"
          ]
        },
        {
          "output_type": "stream",
          "name": "stderr",
          "text": [
            "Processando batch 10/111: 100%|██████████| 30/30 [00:15<00:00,  1.88it/s]\n"
          ]
        },
        {
          "output_type": "stream",
          "name": "stdout",
          "text": [
            "Gerando descrições de frames...\n"
          ]
        },
        {
          "output_type": "stream",
          "name": "stderr",
          "text": [
            "Processando batch 11/111: 100%|██████████| 30/30 [00:17<00:00,  1.76it/s]\n"
          ]
        },
        {
          "output_type": "stream",
          "name": "stdout",
          "text": [
            "Gerando descrições de frames...\n"
          ]
        },
        {
          "output_type": "stream",
          "name": "stderr",
          "text": [
            "Processando batch 12/111: 100%|██████████| 30/30 [00:18<00:00,  1.65it/s]\n"
          ]
        },
        {
          "output_type": "stream",
          "name": "stdout",
          "text": [
            "Gerando descrições de frames...\n"
          ]
        },
        {
          "output_type": "stream",
          "name": "stderr",
          "text": [
            "Processando batch 13/111: 100%|██████████| 30/30 [00:02<00:00, 13.31it/s]\n"
          ]
        },
        {
          "output_type": "stream",
          "name": "stdout",
          "text": [
            "Gerando descrições de frames...\n"
          ]
        },
        {
          "output_type": "stream",
          "name": "stderr",
          "text": [
            "Processando batch 14/111: 100%|██████████| 30/30 [00:04<00:00,  6.24it/s]\n"
          ]
        },
        {
          "output_type": "stream",
          "name": "stdout",
          "text": [
            "Gerando descrições de frames...\n"
          ]
        },
        {
          "output_type": "stream",
          "name": "stderr",
          "text": [
            "Processando batch 15/111: 100%|██████████| 30/30 [00:07<00:00,  4.19it/s]\n"
          ]
        },
        {
          "output_type": "stream",
          "name": "stdout",
          "text": [
            "Gerando descrições de frames...\n"
          ]
        },
        {
          "output_type": "stream",
          "name": "stderr",
          "text": [
            "Processando batch 16/111: 100%|██████████| 30/30 [00:07<00:00,  4.08it/s]\n"
          ]
        },
        {
          "output_type": "stream",
          "name": "stdout",
          "text": [
            "Gerando descrições de frames...\n"
          ]
        },
        {
          "output_type": "stream",
          "name": "stderr",
          "text": [
            "Processando batch 17/111: 100%|██████████| 30/30 [00:07<00:00,  4.15it/s]\n"
          ]
        },
        {
          "output_type": "stream",
          "name": "stdout",
          "text": [
            "Gerando descrições de frames...\n"
          ]
        },
        {
          "output_type": "stream",
          "name": "stderr",
          "text": [
            "Processando batch 18/111: 100%|██████████| 30/30 [00:06<00:00,  4.68it/s]\n"
          ]
        },
        {
          "output_type": "stream",
          "name": "stdout",
          "text": [
            "Gerando descrições de frames...\n"
          ]
        },
        {
          "output_type": "stream",
          "name": "stderr",
          "text": [
            "Processando batch 19/111: 100%|██████████| 30/30 [00:06<00:00,  4.56it/s]\n"
          ]
        },
        {
          "output_type": "stream",
          "name": "stdout",
          "text": [
            "Gerando descrições de frames...\n"
          ]
        },
        {
          "output_type": "stream",
          "name": "stderr",
          "text": [
            "Processando batch 20/111:  13%|█▎        | 4/30 [00:00<00:05,  5.17it/s]"
          ]
        },
        {
          "output_type": "stream",
          "name": "stdout",
          "text": [
            "Anomalia na distância do nariz e boca detectada: 0.30).\n",
            "Anomalia na distância do nariz e boca detectada: 0.31).\n"
          ]
        },
        {
          "output_type": "stream",
          "name": "stderr",
          "text": [
            "Processando batch 20/111:  20%|██        | 6/30 [00:01<00:04,  5.08it/s]"
          ]
        },
        {
          "output_type": "stream",
          "name": "stdout",
          "text": [
            "Anomalia na distância do nariz e boca detectada: 0.30).\n"
          ]
        },
        {
          "output_type": "stream",
          "name": "stderr",
          "text": [
            "Processando batch 20/111:  40%|████      | 12/30 [00:02<00:03,  4.74it/s]"
          ]
        },
        {
          "output_type": "stream",
          "name": "stdout",
          "text": [
            "Anomalia na distância do nariz e boca detectada: 0.30).\n"
          ]
        },
        {
          "output_type": "stream",
          "name": "stderr",
          "text": [
            "Processando batch 20/111: 100%|██████████| 30/30 [00:05<00:00,  5.10it/s]\n"
          ]
        },
        {
          "output_type": "stream",
          "name": "stdout",
          "text": [
            "Gerando descrições de frames...\n"
          ]
        },
        {
          "output_type": "stream",
          "name": "stderr",
          "text": [
            "Processando batch 21/111: 100%|██████████| 30/30 [00:04<00:00,  6.44it/s]\n"
          ]
        },
        {
          "output_type": "stream",
          "name": "stdout",
          "text": [
            "Gerando descrições de frames...\n"
          ]
        },
        {
          "output_type": "stream",
          "name": "stderr",
          "text": [
            "Processando batch 22/111:  97%|█████████▋| 29/30 [00:06<00:00,  5.45it/s]"
          ]
        },
        {
          "output_type": "stream",
          "name": "stdout",
          "text": [
            "Anomalia na distância do nariz e boca detectada: 0.29).\n",
            "Anomalia na distância do nariz e boca detectada: 0.30).\n"
          ]
        },
        {
          "output_type": "stream",
          "name": "stderr",
          "text": [
            "Processando batch 22/111: 100%|██████████| 30/30 [00:06<00:00,  4.64it/s]\n"
          ]
        },
        {
          "output_type": "stream",
          "name": "stdout",
          "text": [
            "Gerando descrições de frames...\n"
          ]
        },
        {
          "output_type": "stream",
          "name": "stderr",
          "text": [
            "Processando batch 23/111: 100%|██████████| 30/30 [00:07<00:00,  3.82it/s]\n"
          ]
        },
        {
          "output_type": "stream",
          "name": "stdout",
          "text": [
            "Gerando descrições de frames...\n"
          ]
        },
        {
          "output_type": "stream",
          "name": "stderr",
          "text": [
            "Processando batch 24/111:  83%|████████▎ | 25/30 [00:04<00:00,  5.80it/s]"
          ]
        },
        {
          "output_type": "stream",
          "name": "stdout",
          "text": [
            "Anomalia na distância do nariz e boca detectada: 0.31).\n",
            "Anomalia na distância do nariz e boca detectada: 0.30).\n"
          ]
        },
        {
          "output_type": "stream",
          "name": "stderr",
          "text": [
            "Processando batch 24/111:  90%|█████████ | 27/30 [00:04<00:00,  5.02it/s]"
          ]
        },
        {
          "output_type": "stream",
          "name": "stdout",
          "text": [
            "Anomalia na distância do nariz e boca detectada: 0.30).\n"
          ]
        },
        {
          "output_type": "stream",
          "name": "stderr",
          "text": [
            "\rProcessando batch 24/111:  93%|█████████▎| 28/30 [00:05<00:00,  4.48it/s]"
          ]
        },
        {
          "output_type": "stream",
          "name": "stdout",
          "text": [
            "Anomalia na distância do nariz e boca detectada: 0.31).\n"
          ]
        },
        {
          "output_type": "stream",
          "name": "stderr",
          "text": [
            "\rProcessando batch 24/111:  97%|█████████▋| 29/30 [00:05<00:00,  4.30it/s]"
          ]
        },
        {
          "output_type": "stream",
          "name": "stdout",
          "text": [
            "Anomalia na distância do nariz e boca detectada: 0.31).\n"
          ]
        },
        {
          "output_type": "stream",
          "name": "stderr",
          "text": [
            "Processando batch 24/111: 100%|██████████| 30/30 [00:05<00:00,  5.45it/s]"
          ]
        },
        {
          "output_type": "stream",
          "name": "stdout",
          "text": [
            "Anomalia na distância do nariz e boca detectada: 0.31).\n",
            "Gerando descrições de frames...\n"
          ]
        },
        {
          "output_type": "stream",
          "name": "stderr",
          "text": [
            "\n",
            "Processando batch 25/111: 100%|██████████| 30/30 [00:13<00:00,  2.18it/s]\n"
          ]
        },
        {
          "output_type": "stream",
          "name": "stdout",
          "text": [
            "Gerando descrições de frames...\n"
          ]
        },
        {
          "output_type": "stream",
          "name": "stderr",
          "text": [
            "Processando batch 26/111: 100%|██████████| 30/30 [00:13<00:00,  2.19it/s]\n"
          ]
        },
        {
          "output_type": "stream",
          "name": "stdout",
          "text": [
            "Gerando descrições de frames...\n"
          ]
        },
        {
          "output_type": "stream",
          "name": "stderr",
          "text": [
            "Processando batch 27/111: 100%|██████████| 30/30 [00:13<00:00,  2.19it/s]\n"
          ]
        },
        {
          "output_type": "stream",
          "name": "stdout",
          "text": [
            "Gerando descrições de frames...\n"
          ]
        },
        {
          "output_type": "stream",
          "name": "stderr",
          "text": [
            "Processando batch 28/111: 100%|██████████| 30/30 [00:13<00:00,  2.21it/s]\n"
          ]
        },
        {
          "output_type": "stream",
          "name": "stdout",
          "text": [
            "Gerando descrições de frames...\n"
          ]
        },
        {
          "output_type": "stream",
          "name": "stderr",
          "text": [
            "Processando batch 29/111: 100%|██████████| 30/30 [00:13<00:00,  2.19it/s]\n"
          ]
        },
        {
          "output_type": "stream",
          "name": "stdout",
          "text": [
            "Gerando descrições de frames...\n"
          ]
        },
        {
          "output_type": "stream",
          "name": "stderr",
          "text": [
            "Processando batch 30/111: 100%|██████████| 30/30 [00:13<00:00,  2.17it/s]\n"
          ]
        },
        {
          "output_type": "stream",
          "name": "stdout",
          "text": [
            "Gerando descrições de frames...\n"
          ]
        },
        {
          "output_type": "stream",
          "name": "stderr",
          "text": [
            "Processando batch 31/111: 100%|██████████| 30/30 [00:17<00:00,  1.69it/s]\n"
          ]
        },
        {
          "output_type": "stream",
          "name": "stdout",
          "text": [
            "Gerando descrições de frames...\n"
          ]
        },
        {
          "output_type": "stream",
          "name": "stderr",
          "text": [
            "Processando batch 32/111: 100%|██████████| 30/30 [00:16<00:00,  1.79it/s]\n"
          ]
        },
        {
          "output_type": "stream",
          "name": "stdout",
          "text": [
            "Gerando descrições de frames...\n"
          ]
        },
        {
          "output_type": "stream",
          "name": "stderr",
          "text": [
            "Processando batch 33/111: 100%|██████████| 30/30 [00:18<00:00,  1.59it/s]\n"
          ]
        },
        {
          "output_type": "stream",
          "name": "stdout",
          "text": [
            "Gerando descrições de frames...\n"
          ]
        },
        {
          "output_type": "stream",
          "name": "stderr",
          "text": [
            "Processando batch 34/111: 100%|██████████| 30/30 [00:17<00:00,  1.71it/s]\n"
          ]
        },
        {
          "output_type": "stream",
          "name": "stdout",
          "text": [
            "Gerando descrições de frames...\n"
          ]
        },
        {
          "output_type": "stream",
          "name": "stderr",
          "text": [
            "Processando batch 35/111: 100%|██████████| 30/30 [00:17<00:00,  1.72it/s]\n"
          ]
        },
        {
          "output_type": "stream",
          "name": "stdout",
          "text": [
            "Gerando descrições de frames...\n"
          ]
        },
        {
          "output_type": "stream",
          "name": "stderr",
          "text": [
            "Processando batch 36/111: 100%|██████████| 30/30 [00:18<00:00,  1.60it/s]\n"
          ]
        },
        {
          "output_type": "stream",
          "name": "stdout",
          "text": [
            "Gerando descrições de frames...\n"
          ]
        },
        {
          "output_type": "stream",
          "name": "stderr",
          "text": [
            "Processando batch 37/111: 100%|██████████| 30/30 [00:05<00:00,  5.64it/s]\n"
          ]
        },
        {
          "output_type": "stream",
          "name": "stdout",
          "text": [
            "Gerando descrições de frames...\n"
          ]
        },
        {
          "output_type": "stream",
          "name": "stderr",
          "text": [
            "Processando batch 38/111: 100%|██████████| 30/30 [00:05<00:00,  5.75it/s]\n"
          ]
        },
        {
          "output_type": "stream",
          "name": "stdout",
          "text": [
            "Gerando descrições de frames...\n"
          ]
        },
        {
          "output_type": "stream",
          "name": "stderr",
          "text": [
            "Processando batch 39/111: 100%|██████████| 30/30 [00:05<00:00,  5.59it/s]\n"
          ]
        },
        {
          "output_type": "stream",
          "name": "stdout",
          "text": [
            "Gerando descrições de frames...\n"
          ]
        },
        {
          "output_type": "stream",
          "name": "stderr",
          "text": [
            "Processando batch 40/111: 100%|██████████| 30/30 [00:06<00:00,  4.52it/s]\n"
          ]
        },
        {
          "output_type": "stream",
          "name": "stdout",
          "text": [
            "Gerando descrições de frames...\n"
          ]
        },
        {
          "output_type": "stream",
          "name": "stderr",
          "text": [
            "Processando batch 41/111: 100%|██████████| 30/30 [00:06<00:00,  4.60it/s]\n"
          ]
        },
        {
          "output_type": "stream",
          "name": "stdout",
          "text": [
            "Gerando descrições de frames...\n"
          ]
        },
        {
          "output_type": "stream",
          "name": "stderr",
          "text": [
            "Processando batch 42/111: 100%|██████████| 30/30 [00:05<00:00,  5.83it/s]\n"
          ]
        },
        {
          "output_type": "stream",
          "name": "stdout",
          "text": [
            "Gerando descrições de frames...\n"
          ]
        },
        {
          "output_type": "stream",
          "name": "stderr",
          "text": [
            "Processando batch 43/111: 100%|██████████| 30/30 [00:16<00:00,  1.82it/s]\n"
          ]
        },
        {
          "output_type": "stream",
          "name": "stdout",
          "text": [
            "Gerando descrições de frames...\n"
          ]
        },
        {
          "output_type": "stream",
          "name": "stderr",
          "text": [
            "Processando batch 44/111: 100%|██████████| 30/30 [00:14<00:00,  2.11it/s]\n"
          ]
        },
        {
          "output_type": "stream",
          "name": "stdout",
          "text": [
            "Gerando descrições de frames...\n"
          ]
        },
        {
          "output_type": "stream",
          "name": "stderr",
          "text": [
            "Processando batch 45/111: 100%|██████████| 30/30 [00:19<00:00,  1.52it/s]\n"
          ]
        },
        {
          "output_type": "stream",
          "name": "stdout",
          "text": [
            "Gerando descrições de frames...\n"
          ]
        },
        {
          "output_type": "stream",
          "name": "stderr",
          "text": [
            "Processando batch 46/111: 100%|██████████| 30/30 [00:17<00:00,  1.73it/s]\n"
          ]
        },
        {
          "output_type": "stream",
          "name": "stdout",
          "text": [
            "Gerando descrições de frames...\n"
          ]
        },
        {
          "output_type": "stream",
          "name": "stderr",
          "text": [
            "Processando batch 47/111: 100%|██████████| 30/30 [00:18<00:00,  1.62it/s]\n"
          ]
        },
        {
          "output_type": "stream",
          "name": "stdout",
          "text": [
            "Gerando descrições de frames...\n"
          ]
        },
        {
          "output_type": "stream",
          "name": "stderr",
          "text": [
            "Processando batch 48/111: 100%|██████████| 30/30 [00:08<00:00,  3.38it/s]\n"
          ]
        },
        {
          "output_type": "stream",
          "name": "stdout",
          "text": [
            "Gerando descrições de frames...\n"
          ]
        },
        {
          "output_type": "stream",
          "name": "stderr",
          "text": [
            "Processando batch 49/111: 100%|██████████| 30/30 [00:11<00:00,  2.58it/s]\n"
          ]
        },
        {
          "output_type": "stream",
          "name": "stdout",
          "text": [
            "Gerando descrições de frames...\n"
          ]
        },
        {
          "output_type": "stream",
          "name": "stderr",
          "text": [
            "Processando batch 50/111: 100%|██████████| 30/30 [00:10<00:00,  2.92it/s]\n"
          ]
        },
        {
          "output_type": "stream",
          "name": "stdout",
          "text": [
            "Gerando descrições de frames...\n"
          ]
        },
        {
          "output_type": "stream",
          "name": "stderr",
          "text": [
            "Processando batch 51/111:  23%|██▎       | 7/30 [00:02<00:07,  3.17it/s]"
          ]
        },
        {
          "output_type": "stream",
          "name": "stdout",
          "text": [
            "Anomalia na distância do nariz e boca detectada: 0.14).\n"
          ]
        },
        {
          "output_type": "stream",
          "name": "stderr",
          "text": [
            "\rProcessando batch 51/111:  27%|██▋       | 8/30 [00:02<00:06,  3.28it/s]"
          ]
        },
        {
          "output_type": "stream",
          "name": "stdout",
          "text": [
            "Anomalia na distância do nariz e boca detectada: 0.14).\n"
          ]
        },
        {
          "output_type": "stream",
          "name": "stderr",
          "text": [
            "\rProcessando batch 51/111:  30%|███       | 9/30 [00:02<00:06,  3.30it/s]"
          ]
        },
        {
          "output_type": "stream",
          "name": "stdout",
          "text": [
            "Anomalia na distância do nariz e boca detectada: 0.13).\n"
          ]
        },
        {
          "output_type": "stream",
          "name": "stderr",
          "text": [
            "\rProcessando batch 51/111:  33%|███▎      | 10/30 [00:03<00:05,  3.42it/s]"
          ]
        },
        {
          "output_type": "stream",
          "name": "stdout",
          "text": [
            "Anomalia na distância do nariz e boca detectada: 0.14).\n"
          ]
        },
        {
          "output_type": "stream",
          "name": "stderr",
          "text": [
            "\rProcessando batch 51/111:  37%|███▋      | 11/30 [00:03<00:05,  3.48it/s]"
          ]
        },
        {
          "output_type": "stream",
          "name": "stdout",
          "text": [
            "Anomalia na distância do nariz e boca detectada: 0.13).\n"
          ]
        },
        {
          "output_type": "stream",
          "name": "stderr",
          "text": [
            "\rProcessando batch 51/111:  40%|████      | 12/30 [00:03<00:05,  3.53it/s]"
          ]
        },
        {
          "output_type": "stream",
          "name": "stdout",
          "text": [
            "Anomalia na distância do nariz e boca detectada: 0.14).\n"
          ]
        },
        {
          "output_type": "stream",
          "name": "stderr",
          "text": [
            "\rProcessando batch 51/111:  43%|████▎     | 13/30 [00:04<00:04,  3.56it/s]"
          ]
        },
        {
          "output_type": "stream",
          "name": "stdout",
          "text": [
            "Anomalia na distância do nariz e boca detectada: 0.14).\n"
          ]
        },
        {
          "output_type": "stream",
          "name": "stderr",
          "text": [
            "\rProcessando batch 51/111:  47%|████▋     | 14/30 [00:04<00:04,  3.54it/s]"
          ]
        },
        {
          "output_type": "stream",
          "name": "stdout",
          "text": [
            "Anomalia na distância do nariz e boca detectada: 0.15).\n"
          ]
        },
        {
          "output_type": "stream",
          "name": "stderr",
          "text": [
            "Processando batch 51/111: 100%|██████████| 30/30 [00:09<00:00,  3.03it/s]\n"
          ]
        },
        {
          "output_type": "stream",
          "name": "stdout",
          "text": [
            "Gerando descrições de frames...\n"
          ]
        },
        {
          "output_type": "stream",
          "name": "stderr",
          "text": [
            "Processando batch 52/111: 100%|██████████| 30/30 [00:10<00:00,  2.74it/s]\n"
          ]
        },
        {
          "output_type": "stream",
          "name": "stdout",
          "text": [
            "Gerando descrições de frames...\n"
          ]
        },
        {
          "output_type": "stream",
          "name": "stderr",
          "text": [
            "Processando batch 53/111: 100%|██████████| 30/30 [00:09<00:00,  3.11it/s]\n"
          ]
        },
        {
          "output_type": "stream",
          "name": "stdout",
          "text": [
            "Gerando descrições de frames...\n"
          ]
        },
        {
          "output_type": "stream",
          "name": "stderr",
          "text": [
            "Processando batch 54/111:  10%|█         | 3/30 [00:01<00:09,  2.87it/s]"
          ]
        },
        {
          "output_type": "stream",
          "name": "stdout",
          "text": [
            "Anomalia na distância do nariz e boca detectada: 0.15).\n"
          ]
        },
        {
          "output_type": "stream",
          "name": "stderr",
          "text": [
            "Processando batch 54/111:  17%|█▋        | 5/30 [00:01<00:07,  3.14it/s]"
          ]
        },
        {
          "output_type": "stream",
          "name": "stdout",
          "text": [
            "Anomalia na distância do nariz e boca detectada: 0.15).\n"
          ]
        },
        {
          "output_type": "stream",
          "name": "stderr",
          "text": [
            "Processando batch 54/111: 100%|██████████| 30/30 [00:11<00:00,  2.72it/s]\n"
          ]
        },
        {
          "output_type": "stream",
          "name": "stdout",
          "text": [
            "Gerando descrições de frames...\n"
          ]
        },
        {
          "output_type": "stream",
          "name": "stderr",
          "text": [
            "Processando batch 55/111: 100%|██████████| 30/30 [00:13<00:00,  2.27it/s]\n"
          ]
        },
        {
          "output_type": "stream",
          "name": "stdout",
          "text": [
            "Gerando descrições de frames...\n"
          ]
        },
        {
          "output_type": "stream",
          "name": "stderr",
          "text": [
            "Processando batch 56/111: 100%|██████████| 30/30 [00:13<00:00,  2.30it/s]\n"
          ]
        },
        {
          "output_type": "stream",
          "name": "stdout",
          "text": [
            "Gerando descrições de frames...\n"
          ]
        },
        {
          "output_type": "stream",
          "name": "stderr",
          "text": [
            "Processando batch 57/111: 100%|██████████| 30/30 [00:13<00:00,  2.29it/s]\n"
          ]
        },
        {
          "output_type": "stream",
          "name": "stdout",
          "text": [
            "Gerando descrições de frames...\n"
          ]
        },
        {
          "output_type": "stream",
          "name": "stderr",
          "text": [
            "Processando batch 58/111: 100%|██████████| 30/30 [00:08<00:00,  3.39it/s]\n"
          ]
        },
        {
          "output_type": "stream",
          "name": "stdout",
          "text": [
            "Gerando descrições de frames...\n"
          ]
        },
        {
          "output_type": "stream",
          "name": "stderr",
          "text": [
            "Processando batch 59/111: 100%|██████████| 30/30 [00:08<00:00,  3.40it/s]\n"
          ]
        },
        {
          "output_type": "stream",
          "name": "stdout",
          "text": [
            "Gerando descrições de frames...\n"
          ]
        },
        {
          "output_type": "stream",
          "name": "stderr",
          "text": [
            "Processando batch 60/111: 100%|██████████| 30/30 [00:08<00:00,  3.57it/s]\n"
          ]
        },
        {
          "output_type": "stream",
          "name": "stdout",
          "text": [
            "Gerando descrições de frames...\n"
          ]
        },
        {
          "output_type": "stream",
          "name": "stderr",
          "text": [
            "Processando batch 61/111: 100%|██████████| 30/30 [00:08<00:00,  3.40it/s]\n"
          ]
        },
        {
          "output_type": "stream",
          "name": "stdout",
          "text": [
            "Gerando descrições de frames...\n"
          ]
        },
        {
          "output_type": "stream",
          "name": "stderr",
          "text": [
            "Processando batch 62/111: 100%|██████████| 30/30 [00:09<00:00,  3.23it/s]\n"
          ]
        },
        {
          "output_type": "stream",
          "name": "stdout",
          "text": [
            "Gerando descrições de frames...\n"
          ]
        },
        {
          "output_type": "stream",
          "name": "stderr",
          "text": [
            "Processando batch 63/111: 100%|██████████| 30/30 [00:09<00:00,  3.31it/s]\n"
          ]
        },
        {
          "output_type": "stream",
          "name": "stdout",
          "text": [
            "Gerando descrições de frames...\n"
          ]
        },
        {
          "output_type": "stream",
          "name": "stderr",
          "text": [
            "Processando batch 64/111: 100%|██████████| 30/30 [00:08<00:00,  3.48it/s]\n"
          ]
        },
        {
          "output_type": "stream",
          "name": "stdout",
          "text": [
            "Gerando descrições de frames...\n"
          ]
        },
        {
          "output_type": "stream",
          "name": "stderr",
          "text": [
            "Processando batch 65/111: 100%|██████████| 30/30 [00:08<00:00,  3.70it/s]\n"
          ]
        },
        {
          "output_type": "stream",
          "name": "stdout",
          "text": [
            "Gerando descrições de frames...\n"
          ]
        },
        {
          "output_type": "stream",
          "name": "stderr",
          "text": [
            "Processando batch 66/111: 100%|██████████| 30/30 [00:07<00:00,  3.75it/s]\n"
          ]
        },
        {
          "output_type": "stream",
          "name": "stdout",
          "text": [
            "Gerando descrições de frames...\n"
          ]
        },
        {
          "output_type": "stream",
          "name": "stderr",
          "text": [
            "Processando batch 67/111: 100%|██████████| 30/30 [00:08<00:00,  3.70it/s]\n"
          ]
        },
        {
          "output_type": "stream",
          "name": "stdout",
          "text": [
            "Gerando descrições de frames...\n"
          ]
        },
        {
          "output_type": "stream",
          "name": "stderr",
          "text": [
            "Processando batch 68/111: 100%|██████████| 30/30 [00:09<00:00,  3.20it/s]\n"
          ]
        },
        {
          "output_type": "stream",
          "name": "stdout",
          "text": [
            "Gerando descrições de frames...\n"
          ]
        },
        {
          "output_type": "stream",
          "name": "stderr",
          "text": [
            "Processando batch 69/111: 100%|██████████| 30/30 [00:08<00:00,  3.51it/s]\n"
          ]
        },
        {
          "output_type": "stream",
          "name": "stdout",
          "text": [
            "Gerando descrições de frames...\n"
          ]
        },
        {
          "output_type": "stream",
          "name": "stderr",
          "text": [
            "Processando batch 70/111: 100%|██████████| 30/30 [00:08<00:00,  3.40it/s]\n"
          ]
        },
        {
          "output_type": "stream",
          "name": "stdout",
          "text": [
            "Gerando descrições de frames...\n"
          ]
        },
        {
          "output_type": "stream",
          "name": "stderr",
          "text": [
            "Processando batch 71/111: 100%|██████████| 30/30 [00:09<00:00,  3.15it/s]\n"
          ]
        },
        {
          "output_type": "stream",
          "name": "stdout",
          "text": [
            "Gerando descrições de frames...\n"
          ]
        },
        {
          "output_type": "stream",
          "name": "stderr",
          "text": [
            "Processando batch 72/111: 100%|██████████| 30/30 [00:09<00:00,  3.08it/s]\n"
          ]
        },
        {
          "output_type": "stream",
          "name": "stdout",
          "text": [
            "Gerando descrições de frames...\n"
          ]
        },
        {
          "output_type": "stream",
          "name": "stderr",
          "text": [
            "Processando batch 73/111: 100%|██████████| 30/30 [00:09<00:00,  3.06it/s]\n"
          ]
        },
        {
          "output_type": "stream",
          "name": "stdout",
          "text": [
            "Gerando descrições de frames...\n"
          ]
        },
        {
          "output_type": "stream",
          "name": "stderr",
          "text": [
            "Processando batch 74/111: 100%|██████████| 30/30 [00:08<00:00,  3.53it/s]\n"
          ]
        },
        {
          "output_type": "stream",
          "name": "stdout",
          "text": [
            "Gerando descrições de frames...\n"
          ]
        },
        {
          "output_type": "stream",
          "name": "stderr",
          "text": [
            "Processando batch 75/111: 100%|██████████| 30/30 [00:08<00:00,  3.38it/s]\n"
          ]
        },
        {
          "output_type": "stream",
          "name": "stdout",
          "text": [
            "Gerando descrições de frames...\n"
          ]
        },
        {
          "output_type": "stream",
          "name": "stderr",
          "text": [
            "Processando batch 76/111: 100%|██████████| 30/30 [00:09<00:00,  3.14it/s]\n"
          ]
        },
        {
          "output_type": "stream",
          "name": "stdout",
          "text": [
            "Gerando descrições de frames...\n"
          ]
        },
        {
          "output_type": "stream",
          "name": "stderr",
          "text": [
            "Processando batch 77/111: 100%|██████████| 30/30 [00:09<00:00,  3.05it/s]\n"
          ]
        },
        {
          "output_type": "stream",
          "name": "stdout",
          "text": [
            "Gerando descrições de frames...\n"
          ]
        },
        {
          "output_type": "stream",
          "name": "stderr",
          "text": [
            "Processando batch 78/111: 100%|██████████| 30/30 [00:09<00:00,  3.04it/s]\n"
          ]
        },
        {
          "output_type": "stream",
          "name": "stdout",
          "text": [
            "Gerando descrições de frames...\n"
          ]
        },
        {
          "output_type": "stream",
          "name": "stderr",
          "text": [
            "Processando batch 79/111: 100%|██████████| 30/30 [00:10<00:00,  2.98it/s]\n"
          ]
        },
        {
          "output_type": "stream",
          "name": "stdout",
          "text": [
            "Gerando descrições de frames...\n"
          ]
        },
        {
          "output_type": "stream",
          "name": "stderr",
          "text": [
            "Processando batch 80/111:  27%|██▋       | 8/30 [00:02<00:07,  3.08it/s]"
          ]
        },
        {
          "output_type": "stream",
          "name": "stdout",
          "text": [
            "Anomalia na distância do nariz e boca detectada: 0.30).\n"
          ]
        },
        {
          "output_type": "stream",
          "name": "stderr",
          "text": [
            "\rProcessando batch 80/111:  30%|███       | 9/30 [00:03<00:06,  3.34it/s]"
          ]
        },
        {
          "output_type": "stream",
          "name": "stdout",
          "text": [
            "Anomalia na distância do nariz e boca detectada: 0.30).\n"
          ]
        },
        {
          "output_type": "stream",
          "name": "stderr",
          "text": [
            "Processando batch 80/111:  43%|████▎     | 13/30 [00:03<00:04,  4.02it/s]"
          ]
        },
        {
          "output_type": "stream",
          "name": "stdout",
          "text": [
            "Anomalia na distância do nariz e boca detectada: 0.30).\n"
          ]
        },
        {
          "output_type": "stream",
          "name": "stderr",
          "text": [
            "\rProcessando batch 80/111:  47%|████▋     | 14/30 [00:04<00:03,  4.14it/s]"
          ]
        },
        {
          "output_type": "stream",
          "name": "stdout",
          "text": [
            "Anomalia na distância do nariz e boca detectada: 0.29).\n"
          ]
        },
        {
          "output_type": "stream",
          "name": "stderr",
          "text": [
            "\rProcessando batch 80/111:  50%|█████     | 15/30 [00:04<00:03,  4.22it/s]"
          ]
        },
        {
          "output_type": "stream",
          "name": "stdout",
          "text": [
            "Anomalia na distância do nariz e boca detectada: 0.29).\n"
          ]
        },
        {
          "output_type": "stream",
          "name": "stderr",
          "text": [
            "\rProcessando batch 80/111:  53%|█████▎    | 16/30 [00:04<00:03,  4.29it/s]"
          ]
        },
        {
          "output_type": "stream",
          "name": "stdout",
          "text": [
            "Anomalia na distância do nariz e boca detectada: 0.29).\n"
          ]
        },
        {
          "output_type": "stream",
          "name": "stderr",
          "text": [
            "\rProcessando batch 80/111:  57%|█████▋    | 17/30 [00:04<00:02,  4.36it/s]"
          ]
        },
        {
          "output_type": "stream",
          "name": "stdout",
          "text": [
            "Anomalia na distância do nariz e boca detectada: 0.29).\n"
          ]
        },
        {
          "output_type": "stream",
          "name": "stderr",
          "text": [
            "Processando batch 80/111:  63%|██████▎   | 19/30 [00:05<00:02,  4.32it/s]"
          ]
        },
        {
          "output_type": "stream",
          "name": "stdout",
          "text": [
            "Anomalia na distância do nariz e boca detectada: 0.29).\n"
          ]
        },
        {
          "output_type": "stream",
          "name": "stderr",
          "text": [
            "\rProcessando batch 80/111:  67%|██████▋   | 20/30 [00:05<00:02,  4.36it/s]"
          ]
        },
        {
          "output_type": "stream",
          "name": "stdout",
          "text": [
            "Anomalia na distância do nariz e boca detectada: 0.29).\n"
          ]
        },
        {
          "output_type": "stream",
          "name": "stderr",
          "text": [
            "\rProcessando batch 80/111:  70%|███████   | 21/30 [00:05<00:02,  4.38it/s]"
          ]
        },
        {
          "output_type": "stream",
          "name": "stdout",
          "text": [
            "Anomalia na distância do nariz e boca detectada: 0.29).\n"
          ]
        },
        {
          "output_type": "stream",
          "name": "stderr",
          "text": [
            "\rProcessando batch 80/111:  73%|███████▎  | 22/30 [00:06<00:01,  4.32it/s]"
          ]
        },
        {
          "output_type": "stream",
          "name": "stdout",
          "text": [
            "Anomalia na distância do nariz e boca detectada: 0.29).\n"
          ]
        },
        {
          "output_type": "stream",
          "name": "stderr",
          "text": [
            "\rProcessando batch 80/111:  77%|███████▋  | 23/30 [00:06<00:01,  4.35it/s]"
          ]
        },
        {
          "output_type": "stream",
          "name": "stdout",
          "text": [
            "Anomalia na distância do nariz e boca detectada: 0.29).\n"
          ]
        },
        {
          "output_type": "stream",
          "name": "stderr",
          "text": [
            "Processando batch 80/111: 100%|██████████| 30/30 [00:07<00:00,  3.82it/s]\n"
          ]
        },
        {
          "output_type": "stream",
          "name": "stdout",
          "text": [
            "Gerando descrições de frames...\n"
          ]
        },
        {
          "output_type": "stream",
          "name": "stderr",
          "text": [
            "Processando batch 81/111: 100%|██████████| 30/30 [00:13<00:00,  2.30it/s]\n"
          ]
        },
        {
          "output_type": "stream",
          "name": "stdout",
          "text": [
            "Gerando descrições de frames...\n"
          ]
        },
        {
          "output_type": "stream",
          "name": "stderr",
          "text": [
            "Processando batch 82/111: 100%|██████████| 30/30 [00:13<00:00,  2.28it/s]\n"
          ]
        },
        {
          "output_type": "stream",
          "name": "stdout",
          "text": [
            "Gerando descrições de frames...\n"
          ]
        },
        {
          "output_type": "stream",
          "name": "stderr",
          "text": [
            "Processando batch 83/111: 100%|██████████| 30/30 [00:13<00:00,  2.20it/s]\n"
          ]
        },
        {
          "output_type": "stream",
          "name": "stdout",
          "text": [
            "Gerando descrições de frames...\n"
          ]
        },
        {
          "output_type": "stream",
          "name": "stderr",
          "text": [
            "Processando batch 84/111: 100%|██████████| 30/30 [00:13<00:00,  2.16it/s]\n"
          ]
        },
        {
          "output_type": "stream",
          "name": "stdout",
          "text": [
            "Gerando descrições de frames...\n"
          ]
        },
        {
          "output_type": "stream",
          "name": "stderr",
          "text": [
            "Processando batch 85/111: 100%|██████████| 30/30 [00:14<00:00,  2.13it/s]\n"
          ]
        },
        {
          "output_type": "stream",
          "name": "stdout",
          "text": [
            "Gerando descrições de frames...\n"
          ]
        },
        {
          "output_type": "stream",
          "name": "stderr",
          "text": [
            "Processando batch 86/111: 100%|██████████| 30/30 [00:14<00:00,  2.13it/s]\n"
          ]
        },
        {
          "output_type": "stream",
          "name": "stdout",
          "text": [
            "Gerando descrições de frames...\n"
          ]
        },
        {
          "output_type": "stream",
          "name": "stderr",
          "text": [
            "Processando batch 87/111: 100%|██████████| 30/30 [00:13<00:00,  2.16it/s]\n"
          ]
        },
        {
          "output_type": "stream",
          "name": "stdout",
          "text": [
            "Gerando descrições de frames...\n"
          ]
        },
        {
          "output_type": "stream",
          "name": "stderr",
          "text": [
            "Processando batch 88/111: 100%|██████████| 30/30 [00:14<00:00,  2.09it/s]\n"
          ]
        },
        {
          "output_type": "stream",
          "name": "stdout",
          "text": [
            "Gerando descrições de frames...\n"
          ]
        },
        {
          "output_type": "stream",
          "name": "stderr",
          "text": [
            "Processando batch 89/111: 100%|██████████| 30/30 [00:15<00:00,  2.00it/s]\n"
          ]
        },
        {
          "output_type": "stream",
          "name": "stdout",
          "text": [
            "Gerando descrições de frames...\n"
          ]
        },
        {
          "output_type": "stream",
          "name": "stderr",
          "text": [
            "Processando batch 90/111: 100%|██████████| 30/30 [00:15<00:00,  1.90it/s]\n"
          ]
        },
        {
          "output_type": "stream",
          "name": "stdout",
          "text": [
            "Gerando descrições de frames...\n"
          ]
        },
        {
          "output_type": "stream",
          "name": "stderr",
          "text": [
            "Processando batch 91/111: 100%|██████████| 30/30 [00:15<00:00,  1.98it/s]\n"
          ]
        },
        {
          "output_type": "stream",
          "name": "stdout",
          "text": [
            "Gerando descrições de frames...\n"
          ]
        },
        {
          "output_type": "stream",
          "name": "stderr",
          "text": [
            "Processando batch 92/111: 100%|██████████| 30/30 [00:15<00:00,  1.89it/s]\n"
          ]
        },
        {
          "output_type": "stream",
          "name": "stdout",
          "text": [
            "Gerando descrições de frames...\n"
          ]
        },
        {
          "output_type": "stream",
          "name": "stderr",
          "text": [
            "Processando batch 93/111: 100%|██████████| 30/30 [00:09<00:00,  3.32it/s]\n"
          ]
        },
        {
          "output_type": "stream",
          "name": "stdout",
          "text": [
            "Gerando descrições de frames...\n"
          ]
        },
        {
          "output_type": "stream",
          "name": "stderr",
          "text": [
            "Processando batch 94/111: 100%|██████████| 30/30 [00:09<00:00,  3.25it/s]\n"
          ]
        },
        {
          "output_type": "stream",
          "name": "stdout",
          "text": [
            "Gerando descrições de frames...\n"
          ]
        },
        {
          "output_type": "stream",
          "name": "stderr",
          "text": [
            "Processando batch 95/111: 100%|██████████| 30/30 [00:09<00:00,  3.11it/s]\n"
          ]
        },
        {
          "output_type": "stream",
          "name": "stdout",
          "text": [
            "Gerando descrições de frames...\n"
          ]
        },
        {
          "output_type": "stream",
          "name": "stderr",
          "text": [
            "Processando batch 96/111: 100%|██████████| 30/30 [00:09<00:00,  3.20it/s]\n"
          ]
        },
        {
          "output_type": "stream",
          "name": "stdout",
          "text": [
            "Gerando descrições de frames...\n"
          ]
        },
        {
          "output_type": "stream",
          "name": "stderr",
          "text": [
            "Processando batch 97/111: 100%|██████████| 30/30 [00:09<00:00,  3.28it/s]\n"
          ]
        },
        {
          "output_type": "stream",
          "name": "stdout",
          "text": [
            "Gerando descrições de frames...\n"
          ]
        },
        {
          "output_type": "stream",
          "name": "stderr",
          "text": [
            "Processando batch 98/111: 100%|██████████| 30/30 [00:09<00:00,  3.29it/s]\n"
          ]
        },
        {
          "output_type": "stream",
          "name": "stdout",
          "text": [
            "Gerando descrições de frames...\n"
          ]
        },
        {
          "output_type": "stream",
          "name": "stderr",
          "text": [
            "Processando batch 99/111: 100%|██████████| 30/30 [00:09<00:00,  3.14it/s]\n"
          ]
        },
        {
          "output_type": "stream",
          "name": "stdout",
          "text": [
            "Gerando descrições de frames...\n"
          ]
        },
        {
          "output_type": "stream",
          "name": "stderr",
          "text": [
            "Processando batch 100/111: 100%|██████████| 30/30 [00:09<00:00,  3.07it/s]\n"
          ]
        },
        {
          "output_type": "stream",
          "name": "stdout",
          "text": [
            "Gerando descrições de frames...\n"
          ]
        },
        {
          "output_type": "stream",
          "name": "stderr",
          "text": [
            "Processando batch 101/111: 100%|██████████| 30/30 [00:10<00:00,  2.96it/s]\n"
          ]
        },
        {
          "output_type": "stream",
          "name": "stdout",
          "text": [
            "Gerando descrições de frames...\n"
          ]
        },
        {
          "output_type": "stream",
          "name": "stderr",
          "text": [
            "Processando batch 102/111: 100%|██████████| 30/30 [00:10<00:00,  2.91it/s]\n"
          ]
        },
        {
          "output_type": "stream",
          "name": "stdout",
          "text": [
            "Gerando descrições de frames...\n"
          ]
        },
        {
          "output_type": "stream",
          "name": "stderr",
          "text": [
            "Processando batch 103/111: 100%|██████████| 30/30 [00:10<00:00,  2.85it/s]\n"
          ]
        },
        {
          "output_type": "stream",
          "name": "stdout",
          "text": [
            "Gerando descrições de frames...\n"
          ]
        },
        {
          "output_type": "stream",
          "name": "stderr",
          "text": [
            "Processando batch 104/111: 100%|██████████| 30/30 [00:08<00:00,  3.36it/s]\n"
          ]
        },
        {
          "output_type": "stream",
          "name": "stdout",
          "text": [
            "Gerando descrições de frames...\n"
          ]
        },
        {
          "output_type": "stream",
          "name": "stderr",
          "text": [
            "Processando batch 105/111: 100%|██████████| 30/30 [00:14<00:00,  2.10it/s]\n"
          ]
        },
        {
          "output_type": "stream",
          "name": "stdout",
          "text": [
            "Gerando descrições de frames...\n"
          ]
        },
        {
          "output_type": "stream",
          "name": "stderr",
          "text": [
            "Processando batch 106/111: 100%|██████████| 30/30 [00:14<00:00,  2.06it/s]\n"
          ]
        },
        {
          "output_type": "stream",
          "name": "stdout",
          "text": [
            "Gerando descrições de frames...\n"
          ]
        },
        {
          "output_type": "stream",
          "name": "stderr",
          "text": [
            "Processando batch 107/111: 100%|██████████| 30/30 [00:14<00:00,  2.12it/s]\n"
          ]
        },
        {
          "output_type": "stream",
          "name": "stdout",
          "text": [
            "Gerando descrições de frames...\n"
          ]
        },
        {
          "output_type": "stream",
          "name": "stderr",
          "text": [
            "Processando batch 108/111: 100%|██████████| 30/30 [00:14<00:00,  2.06it/s]\n"
          ]
        },
        {
          "output_type": "stream",
          "name": "stdout",
          "text": [
            "Gerando descrições de frames...\n"
          ]
        },
        {
          "output_type": "stream",
          "name": "stderr",
          "text": [
            "Processando batch 109/111: 100%|██████████| 30/30 [00:15<00:00,  1.97it/s]\n"
          ]
        },
        {
          "output_type": "stream",
          "name": "stdout",
          "text": [
            "Gerando descrições de frames...\n"
          ]
        },
        {
          "output_type": "stream",
          "name": "stderr",
          "text": [
            "Processando batch 110/111: 100%|██████████| 30/30 [00:16<00:00,  1.86it/s]\n"
          ]
        },
        {
          "output_type": "stream",
          "name": "stdout",
          "text": [
            "Gerando descrições de frames...\n"
          ]
        },
        {
          "output_type": "stream",
          "name": "stderr",
          "text": [
            "Processando batch 111/111: 100%|██████████| 26/26 [00:10<00:00,  2.55it/s]\n"
          ]
        },
        {
          "output_type": "stream",
          "name": "stdout",
          "text": [
            "\n",
            "Processamento concluído!\n",
            "Tempo de processamento: 32.0 minutos\n",
            "Total de frames processados: 3326\n",
            "Total de Anomalias: 35\n"
          ]
        }
      ],
      "source": [
        "import os\n",
        "import time\n",
        "\n",
        "folder_path = '/content/drive/MyDrive/FIAP/Trabalho04'\n",
        "input_video_path = os.path.join(folder_path, 'video', 'Unlocking Facial Recognition_ Diverse Activities Analysis.mp4')\n",
        "output_video_path = os.path.join(folder_path, 'output', 'output_video.mp4')\n",
        "\n",
        "if not os.path.exists(input_video_path):\n",
        "  raise FileNotFoundError(f\"O vídeo de entrada não existe em {input_video_path}\")\n",
        "\n",
        "start_time = time.time()\n",
        "processed_frames = process_video(input_video_path, output_video_path)\n",
        "end_time = time.time()\n",
        "print(f\"Tempo de processamento: {(end_time - start_time) // 60} minutos\")\n",
        "print(f\"Total de frames processados: {processed_frames['total_frames']}\")\n",
        "print(f\"Total de Anomalias: {processed_frames['anomaly_count']}\")\n",
        "\n",
        "if not os.path.exists(output_video_path):\n",
        "  raise FileNotFoundError(f\"Erro ao gerar video de saída em {output_video_path}\")"
      ]
    },
    {
      "cell_type": "code",
      "execution_count": 11,
      "metadata": {
        "id": "4TuT-qwwEevI",
        "colab": {
          "base_uri": "https://localhost:8080/",
          "height": 17
        },
        "outputId": "b0fbc0d0-6886-400e-90f0-fc5370623a95"
      },
      "outputs": [
        {
          "output_type": "display_data",
          "data": {
            "text/plain": [
              "<IPython.core.display.Javascript object>"
            ],
            "application/javascript": [
              "\n",
              "    async function download(id, filename, size) {\n",
              "      if (!google.colab.kernel.accessAllowed) {\n",
              "        return;\n",
              "      }\n",
              "      const div = document.createElement('div');\n",
              "      const label = document.createElement('label');\n",
              "      label.textContent = `Downloading \"${filename}\": `;\n",
              "      div.appendChild(label);\n",
              "      const progress = document.createElement('progress');\n",
              "      progress.max = size;\n",
              "      div.appendChild(progress);\n",
              "      document.body.appendChild(div);\n",
              "\n",
              "      const buffers = [];\n",
              "      let downloaded = 0;\n",
              "\n",
              "      const channel = await google.colab.kernel.comms.open(id);\n",
              "      // Send a message to notify the kernel that we're ready.\n",
              "      channel.send({})\n",
              "\n",
              "      for await (const message of channel.messages) {\n",
              "        // Send a message to notify the kernel that we're ready.\n",
              "        channel.send({})\n",
              "        if (message.buffers) {\n",
              "          for (const buffer of message.buffers) {\n",
              "            buffers.push(buffer);\n",
              "            downloaded += buffer.byteLength;\n",
              "            progress.value = downloaded;\n",
              "          }\n",
              "        }\n",
              "      }\n",
              "      const blob = new Blob(buffers, {type: 'application/binary'});\n",
              "      const a = document.createElement('a');\n",
              "      a.href = window.URL.createObjectURL(blob);\n",
              "      a.download = filename;\n",
              "      div.appendChild(a);\n",
              "      a.click();\n",
              "      div.remove();\n",
              "    }\n",
              "  "
            ]
          },
          "metadata": {}
        },
        {
          "output_type": "display_data",
          "data": {
            "text/plain": [
              "<IPython.core.display.Javascript object>"
            ],
            "application/javascript": [
              "download(\"download_02ab2087-69db-476c-8346-990bb50d1f60\", \"output_video.mp4\", 98454491)"
            ]
          },
          "metadata": {}
        }
      ],
      "source": [
        "from google.colab import files\n",
        "files.download(output_video_path)"
      ]
    },
    {
      "cell_type": "markdown",
      "source": [
        "# Summarização das Captions e Emoções do vídeo"
      ],
      "metadata": {
        "id": "uJNXcZUVUPAS"
      }
    },
    {
      "cell_type": "code",
      "source": [
        "processed_frames['results_per_second']"
      ],
      "metadata": {
        "id": "FP43M2xYMWEJ",
        "colab": {
          "base_uri": "https://localhost:8080/"
        },
        "outputId": "af57ef49-16b0-4187-a009-e749578ecd30"
      },
      "execution_count": 12,
      "outputs": [
        {
          "output_type": "execute_result",
          "data": {
            "text/plain": [
              "[{'caption': 'a group of people standing in a room', 'emotions': {'fear'}},\n",
              " {'caption': 'a group of people standing in a room', 'emotions': {'fear'}},\n",
              " {'caption': 'a group of people standing in a room', 'emotions': {'fear'}},\n",
              " {'caption': 'a group of people standing in a room', 'emotions': {'fear'}},\n",
              " {'caption': 'a group of people sitting in a room', 'emotions': set()},\n",
              " {'caption': 'a group of people sitting down and looking at papers',\n",
              "  'emotions': {'sad'}},\n",
              " {'caption': 'a man sitting on a couch with a blue shirt on',\n",
              "  'emotions': {'fear', 'happy', 'neutral'}},\n",
              " {'caption': 'a man with a beard and a blue shirt is sitting on a couch',\n",
              "  'emotions': {'happy', 'neutral'}},\n",
              " {'caption': 'a man with a beard and a blue shirt is smiling',\n",
              "  'emotions': {'fear', 'happy', 'neutral', 'sad'}},\n",
              " {'caption': 'a man with a beard and a blue shirt is smiling',\n",
              "  'emotions': {'fear', 'happy', 'sad'}},\n",
              " {'caption': 'a man with a beard and a blue shirt is smiling',\n",
              "  'emotions': {'happy', 'neutral'}},\n",
              " {'caption': 'a man with a beard and a blue shirt is smiling',\n",
              "  'emotions': {'happy', 'neutral'}},\n",
              " {'caption': 'a white background with a black and white logo',\n",
              "  'emotions': set()},\n",
              " {'caption': 'a person with a blue and orange body', 'emotions': set()},\n",
              " {'caption': 'a person standing in front of a circle with the word small',\n",
              "  'emotions': set()},\n",
              " {'caption': 'a group of people standing in front of the word small talk',\n",
              "  'emotions': set()},\n",
              " {'caption': 'a group of people standing in front of a sign that says small talk',\n",
              "  'emotions': set()},\n",
              " {'caption': 'the word social talk with two people standing in front of a circle',\n",
              "  'emotions': set()},\n",
              " {'caption': 'a woman in a black dress is dancing',\n",
              "  'emotions': {'fear', 'neutral', 'sad'}},\n",
              " {'caption': 'a woman in a black dress is standing in the snow',\n",
              "  'emotions': set()},\n",
              " {'caption': 'a woman in a black dress is dancing', 'emotions': set()},\n",
              " {'caption': 'a woman with blue makeup and a blue dress', 'emotions': set()},\n",
              " {'caption': 'a woman in a black dress and blue makeup',\n",
              "  'emotions': {'angry', 'fear', 'neutral', 'sad'}},\n",
              " {'caption': 'a woman in a black dress is holding her head',\n",
              "  'emotions': set()},\n",
              " {'caption': 'a man with a blue face and black shirt',\n",
              "  'emotions': {'happy', 'neutral'}},\n",
              " {'caption': 'a man in a black shirt standing in front of a counter',\n",
              "  'emotions': {'happy', 'neutral'}},\n",
              " {'caption': 'a man standing in front of a counter',\n",
              "  'emotions': {'happy', 'neutral'}},\n",
              " {'caption': 'a man standing in front of a counter',\n",
              "  'emotions': {'happy', 'neutral'}},\n",
              " {'caption': 'a man in a black shirt standing in front of a counter',\n",
              "  'emotions': {'happy', 'neutral'}},\n",
              " {'caption': 'a man standing in front of a store', 'emotions': {'happy'}},\n",
              " {'caption': 'a man with a surprised look on his face',\n",
              "  'emotions': {'happy', 'surprise'}},\n",
              " {'caption': 'a man with blue paint on his face', 'emotions': {'surprise'}},\n",
              " {'caption': 'a man with blue paint on his face',\n",
              "  'emotions': {'fear', 'happy', 'surprise'}},\n",
              " {'caption': 'a man with blue hair and a striped shirt',\n",
              "  'emotions': {'fear', 'sad', 'surprise'}},\n",
              " {'caption': 'a man with blue paint on his face',\n",
              "  'emotions': {'fear', 'sad', 'surprise'}},\n",
              " {'caption': 'a man with blue paint on his face',\n",
              "  'emotions': {'fear', 'surprise'}},\n",
              " {'caption': 'a woman laying on a couch with her eyes closed',\n",
              "  'emotions': set()},\n",
              " {'caption': 'a woman with blue makeup laying on a couch', 'emotions': set()},\n",
              " {'caption': 'a woman with blue makeup laying on a couch', 'emotions': set()},\n",
              " {'caption': 'a woman with blue makeup laying on a couch', 'emotions': set()},\n",
              " {'caption': 'a woman with blue makeup laying on a couch', 'emotions': set()},\n",
              " {'caption': 'a woman with blue paint on her face and hands',\n",
              "  'emotions': set()},\n",
              " {'caption': 'a man with glasses and a beard',\n",
              "  'emotions': {'angry', 'neutral'}},\n",
              " {'caption': 'a man with glasses and a beard wearing a black shirt',\n",
              "  'emotions': {'angry', 'neutral'}},\n",
              " {'caption': 'a man with glasses and a beard in front of a purple background',\n",
              "  'emotions': {'fear', 'happy', 'neutral', 'sad'}},\n",
              " {'caption': 'a man with glasses and a beard wearing a black shirt',\n",
              "  'emotions': {'angry', 'fear', 'neutral', 'sad'}},\n",
              " {'caption': 'a man with glasses and a beard wearing a black shirt',\n",
              "  'emotions': {'neutral', 'sad'}},\n",
              " {'caption': 'a man with glasses and a purple background', 'emotions': set()},\n",
              " {'caption': 'a man with a striped shirt and a smile',\n",
              "  'emotions': {'fear', 'happy', 'neutral'}},\n",
              " {'caption': 'a man with blue hair and a striped shirt',\n",
              "  'emotions': {'happy'}},\n",
              " {'caption': 'a woman with a striped shirt',\n",
              "  'emotions': {'fear', 'happy', 'neutral', 'sad'}},\n",
              " {'caption': 'a man with a striped shirt and a blue face',\n",
              "  'emotions': {'fear', 'happy', 'neutral'}},\n",
              " {'caption': 'a man with blue hair and a striped shirt',\n",
              "  'emotions': {'fear', 'happy', 'neutral', 'sad', 'surprise'}},\n",
              " {'caption': 'a man with a striped shirt and a smile',\n",
              "  'emotions': {'fear', 'happy', 'sad'}},\n",
              " {'caption': 'a man with blue paint on his face', 'emotions': {'neutral'}},\n",
              " {'caption': 'a man with blue paint on his face',\n",
              "  'emotions': {'neutral', 'sad'}},\n",
              " {'caption': 'a man with blue face paint on his face',\n",
              "  'emotions': {'neutral', 'surprise'}},\n",
              " {'caption': 'a head with a glowing light coming out of it',\n",
              "  'emotions': set()},\n",
              " {'caption': 'a 3d head with the sun shining behind it', 'emotions': {'fear'}},\n",
              " {'caption': 'a 3d head with a glowing light coming out',\n",
              "  'emotions': {'fear'}},\n",
              " {'caption': 'a head with a laser laser in the middle', 'emotions': set()},\n",
              " {'caption': 'a woman in a white shirt is sitting in a chair',\n",
              "  'emotions': {'angry', 'fear', 'happy', 'sad', 'surprise'}},\n",
              " {'caption': 'a man in a white shirt and blue hair is standing in front of a mirror',\n",
              "  'emotions': {'angry', 'fear'}},\n",
              " {'caption': 'a man in a white shirt is sitting in a chair',\n",
              "  'emotions': set()},\n",
              " {'caption': 'a woman in a white lab coat is looking at a microscope',\n",
              "  'emotions': set()},\n",
              " {'caption': 'a woman in a white shirt and blue hair is standing in front of a white wall',\n",
              "  'emotions': set()},\n",
              " {'caption': 'a woman in a white shirt is sitting in a chair',\n",
              "  'emotions': set()},\n",
              " {'caption': 'a man in a white lab coat and blue gloves is sitting in a chair with a surgical instrument',\n",
              "  'emotions': set()},\n",
              " {'caption': 'a man in a white lab coat and blue gloves', 'emotions': set()},\n",
              " {'caption': 'a man in a white lab coat is sitting in a chair',\n",
              "  'emotions': set()},\n",
              " {'caption': 'a man in a white lab coat is sitting in a chair',\n",
              "  'emotions': set()},\n",
              " {'caption': 'a man in a white lab coat is sitting on a chair',\n",
              "  'emotions': set()},\n",
              " {'caption': 'a man in a white lab coat is sitting in a chair',\n",
              "  'emotions': set()},\n",
              " {'caption': 'a man in a white lab coat is standing in a room',\n",
              "  'emotions': {'sad'}},\n",
              " {'caption': 'a man in a white lab coat is sitting in a chair',\n",
              "  'emotions': set()},\n",
              " {'caption': 'a man in a white lab coat and mask', 'emotions': set()},\n",
              " {'caption': 'a man in a white lab coat sitting on a chair',\n",
              "  'emotions': set()},\n",
              " {'caption': 'a man in a white lab coat is sitting on a chair',\n",
              "  'emotions': set()},\n",
              " {'caption': 'a man in a white lab coat and white gloves', 'emotions': set()},\n",
              " {'caption': 'a woman in a white robe sitting in a hospital chair',\n",
              "  'emotions': set()},\n",
              " {'caption': 'a man in a striped shirt', 'emotions': set()},\n",
              " {'caption': 'a man sitting at a table with a laptop', 'emotions': set()},\n",
              " {'caption': 'a man sitting at a table with a laptop', 'emotions': set()},\n",
              " {'caption': 'two men sitting at a table with laptops', 'emotions': set()},\n",
              " {'caption': 'a man sitting at a table with a laptop', 'emotions': set()},\n",
              " {'caption': 'a man and woman sitting at a table with laptops',\n",
              "  'emotions': set()},\n",
              " {'caption': 'a group of people sitting at a table', 'emotions': set()},\n",
              " {'caption': 'a group of people sitting at a table', 'emotions': set()},\n",
              " {'caption': 'a group of people sitting at a table', 'emotions': set()},\n",
              " {'caption': 'a group of people sitting at a table',\n",
              "  'emotions': {'fear', 'neutral'}},\n",
              " {'caption': 'a group of people sitting at a table', 'emotions': set()},\n",
              " {'caption': 'a group of people sitting at a table', 'emotions': set()},\n",
              " {'caption': 'a white table with a magazine on it', 'emotions': set()},\n",
              " {'caption': 'a white table sitting on top of a black couch',\n",
              "  'emotions': set()},\n",
              " {'caption': 'a white table sitting on top of a black couch',\n",
              "  'emotions': {'fear', 'neutral', 'sad'}},\n",
              " {'caption': 'a white table sitting on top of a black couch',\n",
              "  'emotions': set()},\n",
              " {'caption': 'a white table sitting on top of a black couch',\n",
              "  'emotions': set()},\n",
              " {'caption': 'a white table sitting on top of a black couch',\n",
              "  'emotions': set()},\n",
              " {'caption': 'a man sitting at a table with a laptop and a cell',\n",
              "  'emotions': set()},\n",
              " {'caption': 'a person is sitting at a desk with a laptop and a cell',\n",
              "  'emotions': {'fear'}},\n",
              " {'caption': 'a person in a lab with a glove on their hand',\n",
              "  'emotions': {'fear'}},\n",
              " {'caption': 'a person in a lab setting a vaccine', 'emotions': set()},\n",
              " {'caption': 'a person is handing another person a piece of paper',\n",
              "  'emotions': set()},\n",
              " {'caption': 'a person in a white coat and gloves is shaking another person with a blue glove',\n",
              "  'emotions': set()},\n",
              " {'caption': 'a group of people sitting around a table',\n",
              "  'emotions': {'happy', 'neutral', 'sad'}},\n",
              " {'caption': 'a group of people sitting around a table',\n",
              "  'emotions': {'angry', 'happy'}},\n",
              " {'caption': 'a group of people sitting around a table',\n",
              "  'emotions': {'angry', 'happy'}},\n",
              " {'caption': 'a group of people sitting around a table',\n",
              "  'emotions': {'fear', 'happy'}},\n",
              " {'caption': 'a group of people sitting around a table',\n",
              "  'emotions': {'fear', 'happy', 'neutral', 'sad'}},\n",
              " {'caption': 'a group of people sitting around a table',\n",
              "  'emotions': {'fear', 'happy', 'neutral', 'sad', 'surprise'}},\n",
              " {'caption': 'a man in a white shirt and glasses is using a laptop',\n",
              "  'emotions': {'fear', 'sad'}}]"
            ]
          },
          "metadata": {},
          "execution_count": 12
        }
      ]
    },
    {
      "cell_type": "code",
      "source": [
        "from transformers import pipeline\n",
        "\n",
        "summarizer = pipeline(\"summarization\")\n",
        "\n",
        "# Extrai captions e emoções únicas\n",
        "all_captions = [d['caption'] for d in processed_frames['results_per_second']]\n",
        "all_emotions = []\n",
        "for d in processed_frames['results_per_second']:\n",
        "    emotions = d.get('emotions')\n",
        "    if emotions:\n",
        "        all_emotions.extend(list(emotions))\n",
        "\n",
        "unique_emotions = list(set(all_emotions))\n",
        "unique_captions = list(set(all_captions))\n",
        "\n",
        "# Sumarização das Captions\n",
        "caption_input_text = f\"Captions:\\n{', '.join(unique_captions)}\"\n",
        "caption_summary = summarizer(caption_input_text, max_length=100, min_length=30, do_sample=True)\n",
        "print(\"Sumário das Captions:\")\n",
        "print(caption_summary[0]['summary_text'])\n",
        "\n",
        "print(\"-\" * 20)\n",
        "\n",
        "# Sumarização das Emoções\n",
        "emotion_input_text = f\"Emotions:\\n{', '.join(unique_emotions)}\"\n",
        "emotion_summary = summarizer(emotion_input_text, max_length=100, min_length=30, do_sample=True)\n",
        "print(\"Sumário das Emoções:\")\n",
        "print(emotion_summary[0]['summary_text'])"
      ],
      "metadata": {
        "id": "KaBMFneTl6jg",
        "colab": {
          "base_uri": "https://localhost:8080/",
          "height": 385,
          "referenced_widgets": [
            "afbc2a553cff4ddea626455295f45a6c",
            "26ce474766e1411cbd62d67d287889ff",
            "96c328e08ebb491f92be8ae9bc6257c0",
            "0fd9d199a0d0445dbe8545bb02bc5997",
            "58f83e8507a344bd9f7a17a7e5730328",
            "7035229eb69c49c8a25154347b039cfa",
            "fc697d4e2b1447e3977534ab78338486",
            "f08b59bcb9d44d62a3c861591483dad5",
            "a0aa1f29574c4a2e9e349b715cacff83",
            "009811b6982c45a2ac1667100bd43ec9",
            "ea0bcd1b32f442ac8bb21c372772471f",
            "5a0b34395a834104983835fc4ace7d3e",
            "3a072ff7eb294a1c92e257813bd7c6f2",
            "ab94554658ab4e1293fbdf41463f3761",
            "52542a1c66214602b5e1467e5d48c536",
            "4dcdff6452064c0aae83b9065f5bfcf1",
            "f9206e6aa88446608c84c818f86f11ac",
            "02b40b8d9a1e4ec1be230bb149f91eb0",
            "9d72d68fccfc4ab6ac6ba753423c61a0",
            "e3ea62e72de640be9635470e82372a84",
            "ef9da8fd64144b15b78dda0871fe8db5",
            "5d02bbd72ede4be5ab5a4e7263f44f98",
            "da5ee99c9e7b4f17b54e6a8a210c41f8",
            "e26ebb127a1e4ecaadf7d956b5e38f37",
            "cc6c5b66509e410ab59cb6b54f0c1800",
            "0f9d98e32d284a09b6e27c412d79c8c8",
            "ab395431421141ba8d89ea6fc1bcfee9",
            "4d0859b478624793b1428b289c40767c",
            "e2ad8f43f2c048e8ad4d36b8e34472a6",
            "f5826069137147af87a3770b2fc59c40",
            "982bb83fd458429786983a154703d82b",
            "9f1d09032d8d45af9e5211f3ada4ef78",
            "a4f3f48fe9314bc58247788850eb5748",
            "551a9f3744524fefa5b8d870d7b4e62c",
            "1a43316426f540b4bca6ae205d799e8a",
            "373c93c6d6a14ffa94051fbd10cdd41e",
            "55e6232b7bff4b69a7587d47468fd3fe",
            "4a081d1e2f404f0c9fcfe18376116fb8",
            "846b2968e3a4409780d6fdac6d934a4e",
            "07a0938983474c2ba545c7542dd87b9d",
            "f45d8a8eea9e46248703fecfee34221a",
            "d58ab23bb6814a57a9d502b0c944e316",
            "4cf7754ad08e4b10838959190b55cecb",
            "7a6b68d3e9404f7ebcfd14b33de86676",
            "9fadbb83e03140d4a5a4e40891fac62b",
            "be83f07f716a41f9a1cd361582d84329",
            "f778306d0bd24ad093a6b7c40bd75f0c",
            "e9db1f1456e54b37bad3f5b0d9dbe016",
            "4ea8ec5bdf1e46609f49354a834784de",
            "bd64c74d5740426a8e5cd1d3d94cd6c8",
            "26b01bdd794e46cfb1f6679b85e65e82",
            "4639f89586f3480f9fead39beef4ed4e",
            "c56f580df7a143b4be6fa7c5f413f344",
            "8aaf851e721340098cb7d361741decdd",
            "5d0d270f8aeb455f80567406ce96c926",
            "b25b9ea5bd2f4799b081e425e5f2599a",
            "cd1988174368422ab5e953ce42472274",
            "c3bc648784534dd8bc66d37717956d72",
            "bd28a27f98c449f7a84a35c8ed7bc588",
            "851a9f9bda8344bcb83f0233893707d8",
            "967b1f22d2334e67a079ad5ebbd2bf53",
            "ff243f4a399c4aadb55047d3c45290a5",
            "71b90f8a800043a9a4d83c2ca2b6f2fe",
            "e73fb47f702f42deb55424ae73ea17e4",
            "b68ce2700b784de6b3138e587aafd428",
            "e412e31615c44b3da651f130827b7e01"
          ]
        },
        "outputId": "ba8e05a3-ee6d-42a1-80e4-91f85cc36d53"
      },
      "execution_count": 13,
      "outputs": [
        {
          "output_type": "stream",
          "name": "stderr",
          "text": [
            "No model was supplied, defaulted to sshleifer/distilbart-cnn-12-6 and revision a4f8f3e (https://huggingface.co/sshleifer/distilbart-cnn-12-6).\n",
            "Using a pipeline without specifying a model name and revision in production is not recommended.\n"
          ]
        },
        {
          "output_type": "display_data",
          "data": {
            "text/plain": [
              "config.json:   0%|          | 0.00/1.80k [00:00<?, ?B/s]"
            ],
            "application/vnd.jupyter.widget-view+json": {
              "version_major": 2,
              "version_minor": 0,
              "model_id": "afbc2a553cff4ddea626455295f45a6c"
            }
          },
          "metadata": {}
        },
        {
          "output_type": "display_data",
          "data": {
            "text/plain": [
              "pytorch_model.bin:   0%|          | 0.00/1.22G [00:00<?, ?B/s]"
            ],
            "application/vnd.jupyter.widget-view+json": {
              "version_major": 2,
              "version_minor": 0,
              "model_id": "5a0b34395a834104983835fc4ace7d3e"
            }
          },
          "metadata": {}
        },
        {
          "output_type": "display_data",
          "data": {
            "text/plain": [
              "model.safetensors:   0%|          | 0.00/1.22G [00:00<?, ?B/s]"
            ],
            "application/vnd.jupyter.widget-view+json": {
              "version_major": 2,
              "version_minor": 0,
              "model_id": "da5ee99c9e7b4f17b54e6a8a210c41f8"
            }
          },
          "metadata": {}
        },
        {
          "output_type": "display_data",
          "data": {
            "text/plain": [
              "tokenizer_config.json:   0%|          | 0.00/26.0 [00:00<?, ?B/s]"
            ],
            "application/vnd.jupyter.widget-view+json": {
              "version_major": 2,
              "version_minor": 0,
              "model_id": "551a9f3744524fefa5b8d870d7b4e62c"
            }
          },
          "metadata": {}
        },
        {
          "output_type": "display_data",
          "data": {
            "text/plain": [
              "vocab.json:   0%|          | 0.00/899k [00:00<?, ?B/s]"
            ],
            "application/vnd.jupyter.widget-view+json": {
              "version_major": 2,
              "version_minor": 0,
              "model_id": "9fadbb83e03140d4a5a4e40891fac62b"
            }
          },
          "metadata": {}
        },
        {
          "output_type": "display_data",
          "data": {
            "text/plain": [
              "merges.txt:   0%|          | 0.00/456k [00:00<?, ?B/s]"
            ],
            "application/vnd.jupyter.widget-view+json": {
              "version_major": 2,
              "version_minor": 0,
              "model_id": "b25b9ea5bd2f4799b081e425e5f2599a"
            }
          },
          "metadata": {}
        },
        {
          "output_type": "stream",
          "name": "stderr",
          "text": [
            "Device set to use cuda:0\n",
            "Your max_length is set to 100, but your input_length is only 18. Since this is a summarization task, where outputs shorter than the input are typically wanted, you might consider decreasing max_length manually, e.g. summarizer('...', max_length=9)\n"
          ]
        },
        {
          "output_type": "stream",
          "name": "stdout",
          "text": [
            "Sumário das Captions:\n",
            " A 3d head with a glowing light coming out of it, a woman in a black dress is dancing, a group of people standing in a room, a man with a striped shirt and a blue face is sitting in a chair with a surgical instrument . Captions: A man in a white lab coat and blue gloves is sitting on a chair, a person in a lab setting a vaccine is looking at a microscope, two men sitting at a table with laptops .\n",
            "--------------------\n",
            "Sumário das Emoções:\n",
            " Emotions: Neutral, neutral, fear, surprise, happy, angry, angry . Emotions include fear, anger, sadness, happiness, anger and happiness .\n"
          ]
        }
      ]
    }
  ],
  "metadata": {
    "colab": {
      "provenance": [],
      "gpuType": "T4",
      "collapsed_sections": [
        "10vu00NrTwZf",
        "2105GtPcT1Le",
        "IDb_6fJoT7Za",
        "uJNXcZUVUPAS"
      ],
      "include_colab_link": true
    },
    "kernelspec": {
      "display_name": "Python 3",
      "name": "python3"
    },
    "language_info": {
      "name": "python"
    },
    "accelerator": "GPU",
    "widgets": {
      "application/vnd.jupyter.widget-state+json": {
        "afbc2a553cff4ddea626455295f45a6c": {
          "model_module": "@jupyter-widgets/controls",
          "model_name": "HBoxModel",
          "model_module_version": "1.5.0",
          "state": {
            "_dom_classes": [],
            "_model_module": "@jupyter-widgets/controls",
            "_model_module_version": "1.5.0",
            "_model_name": "HBoxModel",
            "_view_count": null,
            "_view_module": "@jupyter-widgets/controls",
            "_view_module_version": "1.5.0",
            "_view_name": "HBoxView",
            "box_style": "",
            "children": [
              "IPY_MODEL_26ce474766e1411cbd62d67d287889ff",
              "IPY_MODEL_96c328e08ebb491f92be8ae9bc6257c0",
              "IPY_MODEL_0fd9d199a0d0445dbe8545bb02bc5997"
            ],
            "layout": "IPY_MODEL_58f83e8507a344bd9f7a17a7e5730328"
          }
        },
        "26ce474766e1411cbd62d67d287889ff": {
          "model_module": "@jupyter-widgets/controls",
          "model_name": "HTMLModel",
          "model_module_version": "1.5.0",
          "state": {
            "_dom_classes": [],
            "_model_module": "@jupyter-widgets/controls",
            "_model_module_version": "1.5.0",
            "_model_name": "HTMLModel",
            "_view_count": null,
            "_view_module": "@jupyter-widgets/controls",
            "_view_module_version": "1.5.0",
            "_view_name": "HTMLView",
            "description": "",
            "description_tooltip": null,
            "layout": "IPY_MODEL_7035229eb69c49c8a25154347b039cfa",
            "placeholder": "​",
            "style": "IPY_MODEL_fc697d4e2b1447e3977534ab78338486",
            "value": "config.json: 100%"
          }
        },
        "96c328e08ebb491f92be8ae9bc6257c0": {
          "model_module": "@jupyter-widgets/controls",
          "model_name": "FloatProgressModel",
          "model_module_version": "1.5.0",
          "state": {
            "_dom_classes": [],
            "_model_module": "@jupyter-widgets/controls",
            "_model_module_version": "1.5.0",
            "_model_name": "FloatProgressModel",
            "_view_count": null,
            "_view_module": "@jupyter-widgets/controls",
            "_view_module_version": "1.5.0",
            "_view_name": "ProgressView",
            "bar_style": "success",
            "description": "",
            "description_tooltip": null,
            "layout": "IPY_MODEL_f08b59bcb9d44d62a3c861591483dad5",
            "max": 1802,
            "min": 0,
            "orientation": "horizontal",
            "style": "IPY_MODEL_a0aa1f29574c4a2e9e349b715cacff83",
            "value": 1802
          }
        },
        "0fd9d199a0d0445dbe8545bb02bc5997": {
          "model_module": "@jupyter-widgets/controls",
          "model_name": "HTMLModel",
          "model_module_version": "1.5.0",
          "state": {
            "_dom_classes": [],
            "_model_module": "@jupyter-widgets/controls",
            "_model_module_version": "1.5.0",
            "_model_name": "HTMLModel",
            "_view_count": null,
            "_view_module": "@jupyter-widgets/controls",
            "_view_module_version": "1.5.0",
            "_view_name": "HTMLView",
            "description": "",
            "description_tooltip": null,
            "layout": "IPY_MODEL_009811b6982c45a2ac1667100bd43ec9",
            "placeholder": "​",
            "style": "IPY_MODEL_ea0bcd1b32f442ac8bb21c372772471f",
            "value": " 1.80k/1.80k [00:00&lt;00:00, 61.4kB/s]"
          }
        },
        "58f83e8507a344bd9f7a17a7e5730328": {
          "model_module": "@jupyter-widgets/base",
          "model_name": "LayoutModel",
          "model_module_version": "1.2.0",
          "state": {
            "_model_module": "@jupyter-widgets/base",
            "_model_module_version": "1.2.0",
            "_model_name": "LayoutModel",
            "_view_count": null,
            "_view_module": "@jupyter-widgets/base",
            "_view_module_version": "1.2.0",
            "_view_name": "LayoutView",
            "align_content": null,
            "align_items": null,
            "align_self": null,
            "border": null,
            "bottom": null,
            "display": null,
            "flex": null,
            "flex_flow": null,
            "grid_area": null,
            "grid_auto_columns": null,
            "grid_auto_flow": null,
            "grid_auto_rows": null,
            "grid_column": null,
            "grid_gap": null,
            "grid_row": null,
            "grid_template_areas": null,
            "grid_template_columns": null,
            "grid_template_rows": null,
            "height": null,
            "justify_content": null,
            "justify_items": null,
            "left": null,
            "margin": null,
            "max_height": null,
            "max_width": null,
            "min_height": null,
            "min_width": null,
            "object_fit": null,
            "object_position": null,
            "order": null,
            "overflow": null,
            "overflow_x": null,
            "overflow_y": null,
            "padding": null,
            "right": null,
            "top": null,
            "visibility": null,
            "width": null
          }
        },
        "7035229eb69c49c8a25154347b039cfa": {
          "model_module": "@jupyter-widgets/base",
          "model_name": "LayoutModel",
          "model_module_version": "1.2.0",
          "state": {
            "_model_module": "@jupyter-widgets/base",
            "_model_module_version": "1.2.0",
            "_model_name": "LayoutModel",
            "_view_count": null,
            "_view_module": "@jupyter-widgets/base",
            "_view_module_version": "1.2.0",
            "_view_name": "LayoutView",
            "align_content": null,
            "align_items": null,
            "align_self": null,
            "border": null,
            "bottom": null,
            "display": null,
            "flex": null,
            "flex_flow": null,
            "grid_area": null,
            "grid_auto_columns": null,
            "grid_auto_flow": null,
            "grid_auto_rows": null,
            "grid_column": null,
            "grid_gap": null,
            "grid_row": null,
            "grid_template_areas": null,
            "grid_template_columns": null,
            "grid_template_rows": null,
            "height": null,
            "justify_content": null,
            "justify_items": null,
            "left": null,
            "margin": null,
            "max_height": null,
            "max_width": null,
            "min_height": null,
            "min_width": null,
            "object_fit": null,
            "object_position": null,
            "order": null,
            "overflow": null,
            "overflow_x": null,
            "overflow_y": null,
            "padding": null,
            "right": null,
            "top": null,
            "visibility": null,
            "width": null
          }
        },
        "fc697d4e2b1447e3977534ab78338486": {
          "model_module": "@jupyter-widgets/controls",
          "model_name": "DescriptionStyleModel",
          "model_module_version": "1.5.0",
          "state": {
            "_model_module": "@jupyter-widgets/controls",
            "_model_module_version": "1.5.0",
            "_model_name": "DescriptionStyleModel",
            "_view_count": null,
            "_view_module": "@jupyter-widgets/base",
            "_view_module_version": "1.2.0",
            "_view_name": "StyleView",
            "description_width": ""
          }
        },
        "f08b59bcb9d44d62a3c861591483dad5": {
          "model_module": "@jupyter-widgets/base",
          "model_name": "LayoutModel",
          "model_module_version": "1.2.0",
          "state": {
            "_model_module": "@jupyter-widgets/base",
            "_model_module_version": "1.2.0",
            "_model_name": "LayoutModel",
            "_view_count": null,
            "_view_module": "@jupyter-widgets/base",
            "_view_module_version": "1.2.0",
            "_view_name": "LayoutView",
            "align_content": null,
            "align_items": null,
            "align_self": null,
            "border": null,
            "bottom": null,
            "display": null,
            "flex": null,
            "flex_flow": null,
            "grid_area": null,
            "grid_auto_columns": null,
            "grid_auto_flow": null,
            "grid_auto_rows": null,
            "grid_column": null,
            "grid_gap": null,
            "grid_row": null,
            "grid_template_areas": null,
            "grid_template_columns": null,
            "grid_template_rows": null,
            "height": null,
            "justify_content": null,
            "justify_items": null,
            "left": null,
            "margin": null,
            "max_height": null,
            "max_width": null,
            "min_height": null,
            "min_width": null,
            "object_fit": null,
            "object_position": null,
            "order": null,
            "overflow": null,
            "overflow_x": null,
            "overflow_y": null,
            "padding": null,
            "right": null,
            "top": null,
            "visibility": null,
            "width": null
          }
        },
        "a0aa1f29574c4a2e9e349b715cacff83": {
          "model_module": "@jupyter-widgets/controls",
          "model_name": "ProgressStyleModel",
          "model_module_version": "1.5.0",
          "state": {
            "_model_module": "@jupyter-widgets/controls",
            "_model_module_version": "1.5.0",
            "_model_name": "ProgressStyleModel",
            "_view_count": null,
            "_view_module": "@jupyter-widgets/base",
            "_view_module_version": "1.2.0",
            "_view_name": "StyleView",
            "bar_color": null,
            "description_width": ""
          }
        },
        "009811b6982c45a2ac1667100bd43ec9": {
          "model_module": "@jupyter-widgets/base",
          "model_name": "LayoutModel",
          "model_module_version": "1.2.0",
          "state": {
            "_model_module": "@jupyter-widgets/base",
            "_model_module_version": "1.2.0",
            "_model_name": "LayoutModel",
            "_view_count": null,
            "_view_module": "@jupyter-widgets/base",
            "_view_module_version": "1.2.0",
            "_view_name": "LayoutView",
            "align_content": null,
            "align_items": null,
            "align_self": null,
            "border": null,
            "bottom": null,
            "display": null,
            "flex": null,
            "flex_flow": null,
            "grid_area": null,
            "grid_auto_columns": null,
            "grid_auto_flow": null,
            "grid_auto_rows": null,
            "grid_column": null,
            "grid_gap": null,
            "grid_row": null,
            "grid_template_areas": null,
            "grid_template_columns": null,
            "grid_template_rows": null,
            "height": null,
            "justify_content": null,
            "justify_items": null,
            "left": null,
            "margin": null,
            "max_height": null,
            "max_width": null,
            "min_height": null,
            "min_width": null,
            "object_fit": null,
            "object_position": null,
            "order": null,
            "overflow": null,
            "overflow_x": null,
            "overflow_y": null,
            "padding": null,
            "right": null,
            "top": null,
            "visibility": null,
            "width": null
          }
        },
        "ea0bcd1b32f442ac8bb21c372772471f": {
          "model_module": "@jupyter-widgets/controls",
          "model_name": "DescriptionStyleModel",
          "model_module_version": "1.5.0",
          "state": {
            "_model_module": "@jupyter-widgets/controls",
            "_model_module_version": "1.5.0",
            "_model_name": "DescriptionStyleModel",
            "_view_count": null,
            "_view_module": "@jupyter-widgets/base",
            "_view_module_version": "1.2.0",
            "_view_name": "StyleView",
            "description_width": ""
          }
        },
        "5a0b34395a834104983835fc4ace7d3e": {
          "model_module": "@jupyter-widgets/controls",
          "model_name": "HBoxModel",
          "model_module_version": "1.5.0",
          "state": {
            "_dom_classes": [],
            "_model_module": "@jupyter-widgets/controls",
            "_model_module_version": "1.5.0",
            "_model_name": "HBoxModel",
            "_view_count": null,
            "_view_module": "@jupyter-widgets/controls",
            "_view_module_version": "1.5.0",
            "_view_name": "HBoxView",
            "box_style": "",
            "children": [
              "IPY_MODEL_3a072ff7eb294a1c92e257813bd7c6f2",
              "IPY_MODEL_ab94554658ab4e1293fbdf41463f3761",
              "IPY_MODEL_52542a1c66214602b5e1467e5d48c536"
            ],
            "layout": "IPY_MODEL_4dcdff6452064c0aae83b9065f5bfcf1"
          }
        },
        "3a072ff7eb294a1c92e257813bd7c6f2": {
          "model_module": "@jupyter-widgets/controls",
          "model_name": "HTMLModel",
          "model_module_version": "1.5.0",
          "state": {
            "_dom_classes": [],
            "_model_module": "@jupyter-widgets/controls",
            "_model_module_version": "1.5.0",
            "_model_name": "HTMLModel",
            "_view_count": null,
            "_view_module": "@jupyter-widgets/controls",
            "_view_module_version": "1.5.0",
            "_view_name": "HTMLView",
            "description": "",
            "description_tooltip": null,
            "layout": "IPY_MODEL_f9206e6aa88446608c84c818f86f11ac",
            "placeholder": "​",
            "style": "IPY_MODEL_02b40b8d9a1e4ec1be230bb149f91eb0",
            "value": "pytorch_model.bin: 100%"
          }
        },
        "ab94554658ab4e1293fbdf41463f3761": {
          "model_module": "@jupyter-widgets/controls",
          "model_name": "FloatProgressModel",
          "model_module_version": "1.5.0",
          "state": {
            "_dom_classes": [],
            "_model_module": "@jupyter-widgets/controls",
            "_model_module_version": "1.5.0",
            "_model_name": "FloatProgressModel",
            "_view_count": null,
            "_view_module": "@jupyter-widgets/controls",
            "_view_module_version": "1.5.0",
            "_view_name": "ProgressView",
            "bar_style": "success",
            "description": "",
            "description_tooltip": null,
            "layout": "IPY_MODEL_9d72d68fccfc4ab6ac6ba753423c61a0",
            "max": 1222317369,
            "min": 0,
            "orientation": "horizontal",
            "style": "IPY_MODEL_e3ea62e72de640be9635470e82372a84",
            "value": 1222317369
          }
        },
        "52542a1c66214602b5e1467e5d48c536": {
          "model_module": "@jupyter-widgets/controls",
          "model_name": "HTMLModel",
          "model_module_version": "1.5.0",
          "state": {
            "_dom_classes": [],
            "_model_module": "@jupyter-widgets/controls",
            "_model_module_version": "1.5.0",
            "_model_name": "HTMLModel",
            "_view_count": null,
            "_view_module": "@jupyter-widgets/controls",
            "_view_module_version": "1.5.0",
            "_view_name": "HTMLView",
            "description": "",
            "description_tooltip": null,
            "layout": "IPY_MODEL_ef9da8fd64144b15b78dda0871fe8db5",
            "placeholder": "​",
            "style": "IPY_MODEL_5d02bbd72ede4be5ab5a4e7263f44f98",
            "value": " 1.22G/1.22G [00:12&lt;00:00, 145MB/s]"
          }
        },
        "4dcdff6452064c0aae83b9065f5bfcf1": {
          "model_module": "@jupyter-widgets/base",
          "model_name": "LayoutModel",
          "model_module_version": "1.2.0",
          "state": {
            "_model_module": "@jupyter-widgets/base",
            "_model_module_version": "1.2.0",
            "_model_name": "LayoutModel",
            "_view_count": null,
            "_view_module": "@jupyter-widgets/base",
            "_view_module_version": "1.2.0",
            "_view_name": "LayoutView",
            "align_content": null,
            "align_items": null,
            "align_self": null,
            "border": null,
            "bottom": null,
            "display": null,
            "flex": null,
            "flex_flow": null,
            "grid_area": null,
            "grid_auto_columns": null,
            "grid_auto_flow": null,
            "grid_auto_rows": null,
            "grid_column": null,
            "grid_gap": null,
            "grid_row": null,
            "grid_template_areas": null,
            "grid_template_columns": null,
            "grid_template_rows": null,
            "height": null,
            "justify_content": null,
            "justify_items": null,
            "left": null,
            "margin": null,
            "max_height": null,
            "max_width": null,
            "min_height": null,
            "min_width": null,
            "object_fit": null,
            "object_position": null,
            "order": null,
            "overflow": null,
            "overflow_x": null,
            "overflow_y": null,
            "padding": null,
            "right": null,
            "top": null,
            "visibility": null,
            "width": null
          }
        },
        "f9206e6aa88446608c84c818f86f11ac": {
          "model_module": "@jupyter-widgets/base",
          "model_name": "LayoutModel",
          "model_module_version": "1.2.0",
          "state": {
            "_model_module": "@jupyter-widgets/base",
            "_model_module_version": "1.2.0",
            "_model_name": "LayoutModel",
            "_view_count": null,
            "_view_module": "@jupyter-widgets/base",
            "_view_module_version": "1.2.0",
            "_view_name": "LayoutView",
            "align_content": null,
            "align_items": null,
            "align_self": null,
            "border": null,
            "bottom": null,
            "display": null,
            "flex": null,
            "flex_flow": null,
            "grid_area": null,
            "grid_auto_columns": null,
            "grid_auto_flow": null,
            "grid_auto_rows": null,
            "grid_column": null,
            "grid_gap": null,
            "grid_row": null,
            "grid_template_areas": null,
            "grid_template_columns": null,
            "grid_template_rows": null,
            "height": null,
            "justify_content": null,
            "justify_items": null,
            "left": null,
            "margin": null,
            "max_height": null,
            "max_width": null,
            "min_height": null,
            "min_width": null,
            "object_fit": null,
            "object_position": null,
            "order": null,
            "overflow": null,
            "overflow_x": null,
            "overflow_y": null,
            "padding": null,
            "right": null,
            "top": null,
            "visibility": null,
            "width": null
          }
        },
        "02b40b8d9a1e4ec1be230bb149f91eb0": {
          "model_module": "@jupyter-widgets/controls",
          "model_name": "DescriptionStyleModel",
          "model_module_version": "1.5.0",
          "state": {
            "_model_module": "@jupyter-widgets/controls",
            "_model_module_version": "1.5.0",
            "_model_name": "DescriptionStyleModel",
            "_view_count": null,
            "_view_module": "@jupyter-widgets/base",
            "_view_module_version": "1.2.0",
            "_view_name": "StyleView",
            "description_width": ""
          }
        },
        "9d72d68fccfc4ab6ac6ba753423c61a0": {
          "model_module": "@jupyter-widgets/base",
          "model_name": "LayoutModel",
          "model_module_version": "1.2.0",
          "state": {
            "_model_module": "@jupyter-widgets/base",
            "_model_module_version": "1.2.0",
            "_model_name": "LayoutModel",
            "_view_count": null,
            "_view_module": "@jupyter-widgets/base",
            "_view_module_version": "1.2.0",
            "_view_name": "LayoutView",
            "align_content": null,
            "align_items": null,
            "align_self": null,
            "border": null,
            "bottom": null,
            "display": null,
            "flex": null,
            "flex_flow": null,
            "grid_area": null,
            "grid_auto_columns": null,
            "grid_auto_flow": null,
            "grid_auto_rows": null,
            "grid_column": null,
            "grid_gap": null,
            "grid_row": null,
            "grid_template_areas": null,
            "grid_template_columns": null,
            "grid_template_rows": null,
            "height": null,
            "justify_content": null,
            "justify_items": null,
            "left": null,
            "margin": null,
            "max_height": null,
            "max_width": null,
            "min_height": null,
            "min_width": null,
            "object_fit": null,
            "object_position": null,
            "order": null,
            "overflow": null,
            "overflow_x": null,
            "overflow_y": null,
            "padding": null,
            "right": null,
            "top": null,
            "visibility": null,
            "width": null
          }
        },
        "e3ea62e72de640be9635470e82372a84": {
          "model_module": "@jupyter-widgets/controls",
          "model_name": "ProgressStyleModel",
          "model_module_version": "1.5.0",
          "state": {
            "_model_module": "@jupyter-widgets/controls",
            "_model_module_version": "1.5.0",
            "_model_name": "ProgressStyleModel",
            "_view_count": null,
            "_view_module": "@jupyter-widgets/base",
            "_view_module_version": "1.2.0",
            "_view_name": "StyleView",
            "bar_color": null,
            "description_width": ""
          }
        },
        "ef9da8fd64144b15b78dda0871fe8db5": {
          "model_module": "@jupyter-widgets/base",
          "model_name": "LayoutModel",
          "model_module_version": "1.2.0",
          "state": {
            "_model_module": "@jupyter-widgets/base",
            "_model_module_version": "1.2.0",
            "_model_name": "LayoutModel",
            "_view_count": null,
            "_view_module": "@jupyter-widgets/base",
            "_view_module_version": "1.2.0",
            "_view_name": "LayoutView",
            "align_content": null,
            "align_items": null,
            "align_self": null,
            "border": null,
            "bottom": null,
            "display": null,
            "flex": null,
            "flex_flow": null,
            "grid_area": null,
            "grid_auto_columns": null,
            "grid_auto_flow": null,
            "grid_auto_rows": null,
            "grid_column": null,
            "grid_gap": null,
            "grid_row": null,
            "grid_template_areas": null,
            "grid_template_columns": null,
            "grid_template_rows": null,
            "height": null,
            "justify_content": null,
            "justify_items": null,
            "left": null,
            "margin": null,
            "max_height": null,
            "max_width": null,
            "min_height": null,
            "min_width": null,
            "object_fit": null,
            "object_position": null,
            "order": null,
            "overflow": null,
            "overflow_x": null,
            "overflow_y": null,
            "padding": null,
            "right": null,
            "top": null,
            "visibility": null,
            "width": null
          }
        },
        "5d02bbd72ede4be5ab5a4e7263f44f98": {
          "model_module": "@jupyter-widgets/controls",
          "model_name": "DescriptionStyleModel",
          "model_module_version": "1.5.0",
          "state": {
            "_model_module": "@jupyter-widgets/controls",
            "_model_module_version": "1.5.0",
            "_model_name": "DescriptionStyleModel",
            "_view_count": null,
            "_view_module": "@jupyter-widgets/base",
            "_view_module_version": "1.2.0",
            "_view_name": "StyleView",
            "description_width": ""
          }
        },
        "da5ee99c9e7b4f17b54e6a8a210c41f8": {
          "model_module": "@jupyter-widgets/controls",
          "model_name": "HBoxModel",
          "model_module_version": "1.5.0",
          "state": {
            "_dom_classes": [],
            "_model_module": "@jupyter-widgets/controls",
            "_model_module_version": "1.5.0",
            "_model_name": "HBoxModel",
            "_view_count": null,
            "_view_module": "@jupyter-widgets/controls",
            "_view_module_version": "1.5.0",
            "_view_name": "HBoxView",
            "box_style": "",
            "children": [
              "IPY_MODEL_e26ebb127a1e4ecaadf7d956b5e38f37",
              "IPY_MODEL_cc6c5b66509e410ab59cb6b54f0c1800",
              "IPY_MODEL_0f9d98e32d284a09b6e27c412d79c8c8"
            ],
            "layout": "IPY_MODEL_ab395431421141ba8d89ea6fc1bcfee9"
          }
        },
        "e26ebb127a1e4ecaadf7d956b5e38f37": {
          "model_module": "@jupyter-widgets/controls",
          "model_name": "HTMLModel",
          "model_module_version": "1.5.0",
          "state": {
            "_dom_classes": [],
            "_model_module": "@jupyter-widgets/controls",
            "_model_module_version": "1.5.0",
            "_model_name": "HTMLModel",
            "_view_count": null,
            "_view_module": "@jupyter-widgets/controls",
            "_view_module_version": "1.5.0",
            "_view_name": "HTMLView",
            "description": "",
            "description_tooltip": null,
            "layout": "IPY_MODEL_4d0859b478624793b1428b289c40767c",
            "placeholder": "​",
            "style": "IPY_MODEL_e2ad8f43f2c048e8ad4d36b8e34472a6",
            "value": "model.safetensors: 100%"
          }
        },
        "cc6c5b66509e410ab59cb6b54f0c1800": {
          "model_module": "@jupyter-widgets/controls",
          "model_name": "FloatProgressModel",
          "model_module_version": "1.5.0",
          "state": {
            "_dom_classes": [],
            "_model_module": "@jupyter-widgets/controls",
            "_model_module_version": "1.5.0",
            "_model_name": "FloatProgressModel",
            "_view_count": null,
            "_view_module": "@jupyter-widgets/controls",
            "_view_module_version": "1.5.0",
            "_view_name": "ProgressView",
            "bar_style": "success",
            "description": "",
            "description_tooltip": null,
            "layout": "IPY_MODEL_f5826069137147af87a3770b2fc59c40",
            "max": 1222284424,
            "min": 0,
            "orientation": "horizontal",
            "style": "IPY_MODEL_982bb83fd458429786983a154703d82b",
            "value": 1222284424
          }
        },
        "0f9d98e32d284a09b6e27c412d79c8c8": {
          "model_module": "@jupyter-widgets/controls",
          "model_name": "HTMLModel",
          "model_module_version": "1.5.0",
          "state": {
            "_dom_classes": [],
            "_model_module": "@jupyter-widgets/controls",
            "_model_module_version": "1.5.0",
            "_model_name": "HTMLModel",
            "_view_count": null,
            "_view_module": "@jupyter-widgets/controls",
            "_view_module_version": "1.5.0",
            "_view_name": "HTMLView",
            "description": "",
            "description_tooltip": null,
            "layout": "IPY_MODEL_9f1d09032d8d45af9e5211f3ada4ef78",
            "placeholder": "​",
            "style": "IPY_MODEL_a4f3f48fe9314bc58247788850eb5748",
            "value": " 1.22G/1.22G [01:18&lt;00:00, 4.10MB/s]"
          }
        },
        "ab395431421141ba8d89ea6fc1bcfee9": {
          "model_module": "@jupyter-widgets/base",
          "model_name": "LayoutModel",
          "model_module_version": "1.2.0",
          "state": {
            "_model_module": "@jupyter-widgets/base",
            "_model_module_version": "1.2.0",
            "_model_name": "LayoutModel",
            "_view_count": null,
            "_view_module": "@jupyter-widgets/base",
            "_view_module_version": "1.2.0",
            "_view_name": "LayoutView",
            "align_content": null,
            "align_items": null,
            "align_self": null,
            "border": null,
            "bottom": null,
            "display": null,
            "flex": null,
            "flex_flow": null,
            "grid_area": null,
            "grid_auto_columns": null,
            "grid_auto_flow": null,
            "grid_auto_rows": null,
            "grid_column": null,
            "grid_gap": null,
            "grid_row": null,
            "grid_template_areas": null,
            "grid_template_columns": null,
            "grid_template_rows": null,
            "height": null,
            "justify_content": null,
            "justify_items": null,
            "left": null,
            "margin": null,
            "max_height": null,
            "max_width": null,
            "min_height": null,
            "min_width": null,
            "object_fit": null,
            "object_position": null,
            "order": null,
            "overflow": null,
            "overflow_x": null,
            "overflow_y": null,
            "padding": null,
            "right": null,
            "top": null,
            "visibility": null,
            "width": null
          }
        },
        "4d0859b478624793b1428b289c40767c": {
          "model_module": "@jupyter-widgets/base",
          "model_name": "LayoutModel",
          "model_module_version": "1.2.0",
          "state": {
            "_model_module": "@jupyter-widgets/base",
            "_model_module_version": "1.2.0",
            "_model_name": "LayoutModel",
            "_view_count": null,
            "_view_module": "@jupyter-widgets/base",
            "_view_module_version": "1.2.0",
            "_view_name": "LayoutView",
            "align_content": null,
            "align_items": null,
            "align_self": null,
            "border": null,
            "bottom": null,
            "display": null,
            "flex": null,
            "flex_flow": null,
            "grid_area": null,
            "grid_auto_columns": null,
            "grid_auto_flow": null,
            "grid_auto_rows": null,
            "grid_column": null,
            "grid_gap": null,
            "grid_row": null,
            "grid_template_areas": null,
            "grid_template_columns": null,
            "grid_template_rows": null,
            "height": null,
            "justify_content": null,
            "justify_items": null,
            "left": null,
            "margin": null,
            "max_height": null,
            "max_width": null,
            "min_height": null,
            "min_width": null,
            "object_fit": null,
            "object_position": null,
            "order": null,
            "overflow": null,
            "overflow_x": null,
            "overflow_y": null,
            "padding": null,
            "right": null,
            "top": null,
            "visibility": null,
            "width": null
          }
        },
        "e2ad8f43f2c048e8ad4d36b8e34472a6": {
          "model_module": "@jupyter-widgets/controls",
          "model_name": "DescriptionStyleModel",
          "model_module_version": "1.5.0",
          "state": {
            "_model_module": "@jupyter-widgets/controls",
            "_model_module_version": "1.5.0",
            "_model_name": "DescriptionStyleModel",
            "_view_count": null,
            "_view_module": "@jupyter-widgets/base",
            "_view_module_version": "1.2.0",
            "_view_name": "StyleView",
            "description_width": ""
          }
        },
        "f5826069137147af87a3770b2fc59c40": {
          "model_module": "@jupyter-widgets/base",
          "model_name": "LayoutModel",
          "model_module_version": "1.2.0",
          "state": {
            "_model_module": "@jupyter-widgets/base",
            "_model_module_version": "1.2.0",
            "_model_name": "LayoutModel",
            "_view_count": null,
            "_view_module": "@jupyter-widgets/base",
            "_view_module_version": "1.2.0",
            "_view_name": "LayoutView",
            "align_content": null,
            "align_items": null,
            "align_self": null,
            "border": null,
            "bottom": null,
            "display": null,
            "flex": null,
            "flex_flow": null,
            "grid_area": null,
            "grid_auto_columns": null,
            "grid_auto_flow": null,
            "grid_auto_rows": null,
            "grid_column": null,
            "grid_gap": null,
            "grid_row": null,
            "grid_template_areas": null,
            "grid_template_columns": null,
            "grid_template_rows": null,
            "height": null,
            "justify_content": null,
            "justify_items": null,
            "left": null,
            "margin": null,
            "max_height": null,
            "max_width": null,
            "min_height": null,
            "min_width": null,
            "object_fit": null,
            "object_position": null,
            "order": null,
            "overflow": null,
            "overflow_x": null,
            "overflow_y": null,
            "padding": null,
            "right": null,
            "top": null,
            "visibility": null,
            "width": null
          }
        },
        "982bb83fd458429786983a154703d82b": {
          "model_module": "@jupyter-widgets/controls",
          "model_name": "ProgressStyleModel",
          "model_module_version": "1.5.0",
          "state": {
            "_model_module": "@jupyter-widgets/controls",
            "_model_module_version": "1.5.0",
            "_model_name": "ProgressStyleModel",
            "_view_count": null,
            "_view_module": "@jupyter-widgets/base",
            "_view_module_version": "1.2.0",
            "_view_name": "StyleView",
            "bar_color": null,
            "description_width": ""
          }
        },
        "9f1d09032d8d45af9e5211f3ada4ef78": {
          "model_module": "@jupyter-widgets/base",
          "model_name": "LayoutModel",
          "model_module_version": "1.2.0",
          "state": {
            "_model_module": "@jupyter-widgets/base",
            "_model_module_version": "1.2.0",
            "_model_name": "LayoutModel",
            "_view_count": null,
            "_view_module": "@jupyter-widgets/base",
            "_view_module_version": "1.2.0",
            "_view_name": "LayoutView",
            "align_content": null,
            "align_items": null,
            "align_self": null,
            "border": null,
            "bottom": null,
            "display": null,
            "flex": null,
            "flex_flow": null,
            "grid_area": null,
            "grid_auto_columns": null,
            "grid_auto_flow": null,
            "grid_auto_rows": null,
            "grid_column": null,
            "grid_gap": null,
            "grid_row": null,
            "grid_template_areas": null,
            "grid_template_columns": null,
            "grid_template_rows": null,
            "height": null,
            "justify_content": null,
            "justify_items": null,
            "left": null,
            "margin": null,
            "max_height": null,
            "max_width": null,
            "min_height": null,
            "min_width": null,
            "object_fit": null,
            "object_position": null,
            "order": null,
            "overflow": null,
            "overflow_x": null,
            "overflow_y": null,
            "padding": null,
            "right": null,
            "top": null,
            "visibility": null,
            "width": null
          }
        },
        "a4f3f48fe9314bc58247788850eb5748": {
          "model_module": "@jupyter-widgets/controls",
          "model_name": "DescriptionStyleModel",
          "model_module_version": "1.5.0",
          "state": {
            "_model_module": "@jupyter-widgets/controls",
            "_model_module_version": "1.5.0",
            "_model_name": "DescriptionStyleModel",
            "_view_count": null,
            "_view_module": "@jupyter-widgets/base",
            "_view_module_version": "1.2.0",
            "_view_name": "StyleView",
            "description_width": ""
          }
        },
        "551a9f3744524fefa5b8d870d7b4e62c": {
          "model_module": "@jupyter-widgets/controls",
          "model_name": "HBoxModel",
          "model_module_version": "1.5.0",
          "state": {
            "_dom_classes": [],
            "_model_module": "@jupyter-widgets/controls",
            "_model_module_version": "1.5.0",
            "_model_name": "HBoxModel",
            "_view_count": null,
            "_view_module": "@jupyter-widgets/controls",
            "_view_module_version": "1.5.0",
            "_view_name": "HBoxView",
            "box_style": "",
            "children": [
              "IPY_MODEL_1a43316426f540b4bca6ae205d799e8a",
              "IPY_MODEL_373c93c6d6a14ffa94051fbd10cdd41e",
              "IPY_MODEL_55e6232b7bff4b69a7587d47468fd3fe"
            ],
            "layout": "IPY_MODEL_4a081d1e2f404f0c9fcfe18376116fb8"
          }
        },
        "1a43316426f540b4bca6ae205d799e8a": {
          "model_module": "@jupyter-widgets/controls",
          "model_name": "HTMLModel",
          "model_module_version": "1.5.0",
          "state": {
            "_dom_classes": [],
            "_model_module": "@jupyter-widgets/controls",
            "_model_module_version": "1.5.0",
            "_model_name": "HTMLModel",
            "_view_count": null,
            "_view_module": "@jupyter-widgets/controls",
            "_view_module_version": "1.5.0",
            "_view_name": "HTMLView",
            "description": "",
            "description_tooltip": null,
            "layout": "IPY_MODEL_846b2968e3a4409780d6fdac6d934a4e",
            "placeholder": "​",
            "style": "IPY_MODEL_07a0938983474c2ba545c7542dd87b9d",
            "value": "tokenizer_config.json: 100%"
          }
        },
        "373c93c6d6a14ffa94051fbd10cdd41e": {
          "model_module": "@jupyter-widgets/controls",
          "model_name": "FloatProgressModel",
          "model_module_version": "1.5.0",
          "state": {
            "_dom_classes": [],
            "_model_module": "@jupyter-widgets/controls",
            "_model_module_version": "1.5.0",
            "_model_name": "FloatProgressModel",
            "_view_count": null,
            "_view_module": "@jupyter-widgets/controls",
            "_view_module_version": "1.5.0",
            "_view_name": "ProgressView",
            "bar_style": "success",
            "description": "",
            "description_tooltip": null,
            "layout": "IPY_MODEL_f45d8a8eea9e46248703fecfee34221a",
            "max": 26,
            "min": 0,
            "orientation": "horizontal",
            "style": "IPY_MODEL_d58ab23bb6814a57a9d502b0c944e316",
            "value": 26
          }
        },
        "55e6232b7bff4b69a7587d47468fd3fe": {
          "model_module": "@jupyter-widgets/controls",
          "model_name": "HTMLModel",
          "model_module_version": "1.5.0",
          "state": {
            "_dom_classes": [],
            "_model_module": "@jupyter-widgets/controls",
            "_model_module_version": "1.5.0",
            "_model_name": "HTMLModel",
            "_view_count": null,
            "_view_module": "@jupyter-widgets/controls",
            "_view_module_version": "1.5.0",
            "_view_name": "HTMLView",
            "description": "",
            "description_tooltip": null,
            "layout": "IPY_MODEL_4cf7754ad08e4b10838959190b55cecb",
            "placeholder": "​",
            "style": "IPY_MODEL_7a6b68d3e9404f7ebcfd14b33de86676",
            "value": " 26.0/26.0 [00:00&lt;00:00, 1.09kB/s]"
          }
        },
        "4a081d1e2f404f0c9fcfe18376116fb8": {
          "model_module": "@jupyter-widgets/base",
          "model_name": "LayoutModel",
          "model_module_version": "1.2.0",
          "state": {
            "_model_module": "@jupyter-widgets/base",
            "_model_module_version": "1.2.0",
            "_model_name": "LayoutModel",
            "_view_count": null,
            "_view_module": "@jupyter-widgets/base",
            "_view_module_version": "1.2.0",
            "_view_name": "LayoutView",
            "align_content": null,
            "align_items": null,
            "align_self": null,
            "border": null,
            "bottom": null,
            "display": null,
            "flex": null,
            "flex_flow": null,
            "grid_area": null,
            "grid_auto_columns": null,
            "grid_auto_flow": null,
            "grid_auto_rows": null,
            "grid_column": null,
            "grid_gap": null,
            "grid_row": null,
            "grid_template_areas": null,
            "grid_template_columns": null,
            "grid_template_rows": null,
            "height": null,
            "justify_content": null,
            "justify_items": null,
            "left": null,
            "margin": null,
            "max_height": null,
            "max_width": null,
            "min_height": null,
            "min_width": null,
            "object_fit": null,
            "object_position": null,
            "order": null,
            "overflow": null,
            "overflow_x": null,
            "overflow_y": null,
            "padding": null,
            "right": null,
            "top": null,
            "visibility": null,
            "width": null
          }
        },
        "846b2968e3a4409780d6fdac6d934a4e": {
          "model_module": "@jupyter-widgets/base",
          "model_name": "LayoutModel",
          "model_module_version": "1.2.0",
          "state": {
            "_model_module": "@jupyter-widgets/base",
            "_model_module_version": "1.2.0",
            "_model_name": "LayoutModel",
            "_view_count": null,
            "_view_module": "@jupyter-widgets/base",
            "_view_module_version": "1.2.0",
            "_view_name": "LayoutView",
            "align_content": null,
            "align_items": null,
            "align_self": null,
            "border": null,
            "bottom": null,
            "display": null,
            "flex": null,
            "flex_flow": null,
            "grid_area": null,
            "grid_auto_columns": null,
            "grid_auto_flow": null,
            "grid_auto_rows": null,
            "grid_column": null,
            "grid_gap": null,
            "grid_row": null,
            "grid_template_areas": null,
            "grid_template_columns": null,
            "grid_template_rows": null,
            "height": null,
            "justify_content": null,
            "justify_items": null,
            "left": null,
            "margin": null,
            "max_height": null,
            "max_width": null,
            "min_height": null,
            "min_width": null,
            "object_fit": null,
            "object_position": null,
            "order": null,
            "overflow": null,
            "overflow_x": null,
            "overflow_y": null,
            "padding": null,
            "right": null,
            "top": null,
            "visibility": null,
            "width": null
          }
        },
        "07a0938983474c2ba545c7542dd87b9d": {
          "model_module": "@jupyter-widgets/controls",
          "model_name": "DescriptionStyleModel",
          "model_module_version": "1.5.0",
          "state": {
            "_model_module": "@jupyter-widgets/controls",
            "_model_module_version": "1.5.0",
            "_model_name": "DescriptionStyleModel",
            "_view_count": null,
            "_view_module": "@jupyter-widgets/base",
            "_view_module_version": "1.2.0",
            "_view_name": "StyleView",
            "description_width": ""
          }
        },
        "f45d8a8eea9e46248703fecfee34221a": {
          "model_module": "@jupyter-widgets/base",
          "model_name": "LayoutModel",
          "model_module_version": "1.2.0",
          "state": {
            "_model_module": "@jupyter-widgets/base",
            "_model_module_version": "1.2.0",
            "_model_name": "LayoutModel",
            "_view_count": null,
            "_view_module": "@jupyter-widgets/base",
            "_view_module_version": "1.2.0",
            "_view_name": "LayoutView",
            "align_content": null,
            "align_items": null,
            "align_self": null,
            "border": null,
            "bottom": null,
            "display": null,
            "flex": null,
            "flex_flow": null,
            "grid_area": null,
            "grid_auto_columns": null,
            "grid_auto_flow": null,
            "grid_auto_rows": null,
            "grid_column": null,
            "grid_gap": null,
            "grid_row": null,
            "grid_template_areas": null,
            "grid_template_columns": null,
            "grid_template_rows": null,
            "height": null,
            "justify_content": null,
            "justify_items": null,
            "left": null,
            "margin": null,
            "max_height": null,
            "max_width": null,
            "min_height": null,
            "min_width": null,
            "object_fit": null,
            "object_position": null,
            "order": null,
            "overflow": null,
            "overflow_x": null,
            "overflow_y": null,
            "padding": null,
            "right": null,
            "top": null,
            "visibility": null,
            "width": null
          }
        },
        "d58ab23bb6814a57a9d502b0c944e316": {
          "model_module": "@jupyter-widgets/controls",
          "model_name": "ProgressStyleModel",
          "model_module_version": "1.5.0",
          "state": {
            "_model_module": "@jupyter-widgets/controls",
            "_model_module_version": "1.5.0",
            "_model_name": "ProgressStyleModel",
            "_view_count": null,
            "_view_module": "@jupyter-widgets/base",
            "_view_module_version": "1.2.0",
            "_view_name": "StyleView",
            "bar_color": null,
            "description_width": ""
          }
        },
        "4cf7754ad08e4b10838959190b55cecb": {
          "model_module": "@jupyter-widgets/base",
          "model_name": "LayoutModel",
          "model_module_version": "1.2.0",
          "state": {
            "_model_module": "@jupyter-widgets/base",
            "_model_module_version": "1.2.0",
            "_model_name": "LayoutModel",
            "_view_count": null,
            "_view_module": "@jupyter-widgets/base",
            "_view_module_version": "1.2.0",
            "_view_name": "LayoutView",
            "align_content": null,
            "align_items": null,
            "align_self": null,
            "border": null,
            "bottom": null,
            "display": null,
            "flex": null,
            "flex_flow": null,
            "grid_area": null,
            "grid_auto_columns": null,
            "grid_auto_flow": null,
            "grid_auto_rows": null,
            "grid_column": null,
            "grid_gap": null,
            "grid_row": null,
            "grid_template_areas": null,
            "grid_template_columns": null,
            "grid_template_rows": null,
            "height": null,
            "justify_content": null,
            "justify_items": null,
            "left": null,
            "margin": null,
            "max_height": null,
            "max_width": null,
            "min_height": null,
            "min_width": null,
            "object_fit": null,
            "object_position": null,
            "order": null,
            "overflow": null,
            "overflow_x": null,
            "overflow_y": null,
            "padding": null,
            "right": null,
            "top": null,
            "visibility": null,
            "width": null
          }
        },
        "7a6b68d3e9404f7ebcfd14b33de86676": {
          "model_module": "@jupyter-widgets/controls",
          "model_name": "DescriptionStyleModel",
          "model_module_version": "1.5.0",
          "state": {
            "_model_module": "@jupyter-widgets/controls",
            "_model_module_version": "1.5.0",
            "_model_name": "DescriptionStyleModel",
            "_view_count": null,
            "_view_module": "@jupyter-widgets/base",
            "_view_module_version": "1.2.0",
            "_view_name": "StyleView",
            "description_width": ""
          }
        },
        "9fadbb83e03140d4a5a4e40891fac62b": {
          "model_module": "@jupyter-widgets/controls",
          "model_name": "HBoxModel",
          "model_module_version": "1.5.0",
          "state": {
            "_dom_classes": [],
            "_model_module": "@jupyter-widgets/controls",
            "_model_module_version": "1.5.0",
            "_model_name": "HBoxModel",
            "_view_count": null,
            "_view_module": "@jupyter-widgets/controls",
            "_view_module_version": "1.5.0",
            "_view_name": "HBoxView",
            "box_style": "",
            "children": [
              "IPY_MODEL_be83f07f716a41f9a1cd361582d84329",
              "IPY_MODEL_f778306d0bd24ad093a6b7c40bd75f0c",
              "IPY_MODEL_e9db1f1456e54b37bad3f5b0d9dbe016"
            ],
            "layout": "IPY_MODEL_4ea8ec5bdf1e46609f49354a834784de"
          }
        },
        "be83f07f716a41f9a1cd361582d84329": {
          "model_module": "@jupyter-widgets/controls",
          "model_name": "HTMLModel",
          "model_module_version": "1.5.0",
          "state": {
            "_dom_classes": [],
            "_model_module": "@jupyter-widgets/controls",
            "_model_module_version": "1.5.0",
            "_model_name": "HTMLModel",
            "_view_count": null,
            "_view_module": "@jupyter-widgets/controls",
            "_view_module_version": "1.5.0",
            "_view_name": "HTMLView",
            "description": "",
            "description_tooltip": null,
            "layout": "IPY_MODEL_bd64c74d5740426a8e5cd1d3d94cd6c8",
            "placeholder": "​",
            "style": "IPY_MODEL_26b01bdd794e46cfb1f6679b85e65e82",
            "value": "vocab.json: 100%"
          }
        },
        "f778306d0bd24ad093a6b7c40bd75f0c": {
          "model_module": "@jupyter-widgets/controls",
          "model_name": "FloatProgressModel",
          "model_module_version": "1.5.0",
          "state": {
            "_dom_classes": [],
            "_model_module": "@jupyter-widgets/controls",
            "_model_module_version": "1.5.0",
            "_model_name": "FloatProgressModel",
            "_view_count": null,
            "_view_module": "@jupyter-widgets/controls",
            "_view_module_version": "1.5.0",
            "_view_name": "ProgressView",
            "bar_style": "success",
            "description": "",
            "description_tooltip": null,
            "layout": "IPY_MODEL_4639f89586f3480f9fead39beef4ed4e",
            "max": 898822,
            "min": 0,
            "orientation": "horizontal",
            "style": "IPY_MODEL_c56f580df7a143b4be6fa7c5f413f344",
            "value": 898822
          }
        },
        "e9db1f1456e54b37bad3f5b0d9dbe016": {
          "model_module": "@jupyter-widgets/controls",
          "model_name": "HTMLModel",
          "model_module_version": "1.5.0",
          "state": {
            "_dom_classes": [],
            "_model_module": "@jupyter-widgets/controls",
            "_model_module_version": "1.5.0",
            "_model_name": "HTMLModel",
            "_view_count": null,
            "_view_module": "@jupyter-widgets/controls",
            "_view_module_version": "1.5.0",
            "_view_name": "HTMLView",
            "description": "",
            "description_tooltip": null,
            "layout": "IPY_MODEL_8aaf851e721340098cb7d361741decdd",
            "placeholder": "​",
            "style": "IPY_MODEL_5d0d270f8aeb455f80567406ce96c926",
            "value": " 899k/899k [00:00&lt;00:00, 2.12MB/s]"
          }
        },
        "4ea8ec5bdf1e46609f49354a834784de": {
          "model_module": "@jupyter-widgets/base",
          "model_name": "LayoutModel",
          "model_module_version": "1.2.0",
          "state": {
            "_model_module": "@jupyter-widgets/base",
            "_model_module_version": "1.2.0",
            "_model_name": "LayoutModel",
            "_view_count": null,
            "_view_module": "@jupyter-widgets/base",
            "_view_module_version": "1.2.0",
            "_view_name": "LayoutView",
            "align_content": null,
            "align_items": null,
            "align_self": null,
            "border": null,
            "bottom": null,
            "display": null,
            "flex": null,
            "flex_flow": null,
            "grid_area": null,
            "grid_auto_columns": null,
            "grid_auto_flow": null,
            "grid_auto_rows": null,
            "grid_column": null,
            "grid_gap": null,
            "grid_row": null,
            "grid_template_areas": null,
            "grid_template_columns": null,
            "grid_template_rows": null,
            "height": null,
            "justify_content": null,
            "justify_items": null,
            "left": null,
            "margin": null,
            "max_height": null,
            "max_width": null,
            "min_height": null,
            "min_width": null,
            "object_fit": null,
            "object_position": null,
            "order": null,
            "overflow": null,
            "overflow_x": null,
            "overflow_y": null,
            "padding": null,
            "right": null,
            "top": null,
            "visibility": null,
            "width": null
          }
        },
        "bd64c74d5740426a8e5cd1d3d94cd6c8": {
          "model_module": "@jupyter-widgets/base",
          "model_name": "LayoutModel",
          "model_module_version": "1.2.0",
          "state": {
            "_model_module": "@jupyter-widgets/base",
            "_model_module_version": "1.2.0",
            "_model_name": "LayoutModel",
            "_view_count": null,
            "_view_module": "@jupyter-widgets/base",
            "_view_module_version": "1.2.0",
            "_view_name": "LayoutView",
            "align_content": null,
            "align_items": null,
            "align_self": null,
            "border": null,
            "bottom": null,
            "display": null,
            "flex": null,
            "flex_flow": null,
            "grid_area": null,
            "grid_auto_columns": null,
            "grid_auto_flow": null,
            "grid_auto_rows": null,
            "grid_column": null,
            "grid_gap": null,
            "grid_row": null,
            "grid_template_areas": null,
            "grid_template_columns": null,
            "grid_template_rows": null,
            "height": null,
            "justify_content": null,
            "justify_items": null,
            "left": null,
            "margin": null,
            "max_height": null,
            "max_width": null,
            "min_height": null,
            "min_width": null,
            "object_fit": null,
            "object_position": null,
            "order": null,
            "overflow": null,
            "overflow_x": null,
            "overflow_y": null,
            "padding": null,
            "right": null,
            "top": null,
            "visibility": null,
            "width": null
          }
        },
        "26b01bdd794e46cfb1f6679b85e65e82": {
          "model_module": "@jupyter-widgets/controls",
          "model_name": "DescriptionStyleModel",
          "model_module_version": "1.5.0",
          "state": {
            "_model_module": "@jupyter-widgets/controls",
            "_model_module_version": "1.5.0",
            "_model_name": "DescriptionStyleModel",
            "_view_count": null,
            "_view_module": "@jupyter-widgets/base",
            "_view_module_version": "1.2.0",
            "_view_name": "StyleView",
            "description_width": ""
          }
        },
        "4639f89586f3480f9fead39beef4ed4e": {
          "model_module": "@jupyter-widgets/base",
          "model_name": "LayoutModel",
          "model_module_version": "1.2.0",
          "state": {
            "_model_module": "@jupyter-widgets/base",
            "_model_module_version": "1.2.0",
            "_model_name": "LayoutModel",
            "_view_count": null,
            "_view_module": "@jupyter-widgets/base",
            "_view_module_version": "1.2.0",
            "_view_name": "LayoutView",
            "align_content": null,
            "align_items": null,
            "align_self": null,
            "border": null,
            "bottom": null,
            "display": null,
            "flex": null,
            "flex_flow": null,
            "grid_area": null,
            "grid_auto_columns": null,
            "grid_auto_flow": null,
            "grid_auto_rows": null,
            "grid_column": null,
            "grid_gap": null,
            "grid_row": null,
            "grid_template_areas": null,
            "grid_template_columns": null,
            "grid_template_rows": null,
            "height": null,
            "justify_content": null,
            "justify_items": null,
            "left": null,
            "margin": null,
            "max_height": null,
            "max_width": null,
            "min_height": null,
            "min_width": null,
            "object_fit": null,
            "object_position": null,
            "order": null,
            "overflow": null,
            "overflow_x": null,
            "overflow_y": null,
            "padding": null,
            "right": null,
            "top": null,
            "visibility": null,
            "width": null
          }
        },
        "c56f580df7a143b4be6fa7c5f413f344": {
          "model_module": "@jupyter-widgets/controls",
          "model_name": "ProgressStyleModel",
          "model_module_version": "1.5.0",
          "state": {
            "_model_module": "@jupyter-widgets/controls",
            "_model_module_version": "1.5.0",
            "_model_name": "ProgressStyleModel",
            "_view_count": null,
            "_view_module": "@jupyter-widgets/base",
            "_view_module_version": "1.2.0",
            "_view_name": "StyleView",
            "bar_color": null,
            "description_width": ""
          }
        },
        "8aaf851e721340098cb7d361741decdd": {
          "model_module": "@jupyter-widgets/base",
          "model_name": "LayoutModel",
          "model_module_version": "1.2.0",
          "state": {
            "_model_module": "@jupyter-widgets/base",
            "_model_module_version": "1.2.0",
            "_model_name": "LayoutModel",
            "_view_count": null,
            "_view_module": "@jupyter-widgets/base",
            "_view_module_version": "1.2.0",
            "_view_name": "LayoutView",
            "align_content": null,
            "align_items": null,
            "align_self": null,
            "border": null,
            "bottom": null,
            "display": null,
            "flex": null,
            "flex_flow": null,
            "grid_area": null,
            "grid_auto_columns": null,
            "grid_auto_flow": null,
            "grid_auto_rows": null,
            "grid_column": null,
            "grid_gap": null,
            "grid_row": null,
            "grid_template_areas": null,
            "grid_template_columns": null,
            "grid_template_rows": null,
            "height": null,
            "justify_content": null,
            "justify_items": null,
            "left": null,
            "margin": null,
            "max_height": null,
            "max_width": null,
            "min_height": null,
            "min_width": null,
            "object_fit": null,
            "object_position": null,
            "order": null,
            "overflow": null,
            "overflow_x": null,
            "overflow_y": null,
            "padding": null,
            "right": null,
            "top": null,
            "visibility": null,
            "width": null
          }
        },
        "5d0d270f8aeb455f80567406ce96c926": {
          "model_module": "@jupyter-widgets/controls",
          "model_name": "DescriptionStyleModel",
          "model_module_version": "1.5.0",
          "state": {
            "_model_module": "@jupyter-widgets/controls",
            "_model_module_version": "1.5.0",
            "_model_name": "DescriptionStyleModel",
            "_view_count": null,
            "_view_module": "@jupyter-widgets/base",
            "_view_module_version": "1.2.0",
            "_view_name": "StyleView",
            "description_width": ""
          }
        },
        "b25b9ea5bd2f4799b081e425e5f2599a": {
          "model_module": "@jupyter-widgets/controls",
          "model_name": "HBoxModel",
          "model_module_version": "1.5.0",
          "state": {
            "_dom_classes": [],
            "_model_module": "@jupyter-widgets/controls",
            "_model_module_version": "1.5.0",
            "_model_name": "HBoxModel",
            "_view_count": null,
            "_view_module": "@jupyter-widgets/controls",
            "_view_module_version": "1.5.0",
            "_view_name": "HBoxView",
            "box_style": "",
            "children": [
              "IPY_MODEL_cd1988174368422ab5e953ce42472274",
              "IPY_MODEL_c3bc648784534dd8bc66d37717956d72",
              "IPY_MODEL_bd28a27f98c449f7a84a35c8ed7bc588"
            ],
            "layout": "IPY_MODEL_851a9f9bda8344bcb83f0233893707d8"
          }
        },
        "cd1988174368422ab5e953ce42472274": {
          "model_module": "@jupyter-widgets/controls",
          "model_name": "HTMLModel",
          "model_module_version": "1.5.0",
          "state": {
            "_dom_classes": [],
            "_model_module": "@jupyter-widgets/controls",
            "_model_module_version": "1.5.0",
            "_model_name": "HTMLModel",
            "_view_count": null,
            "_view_module": "@jupyter-widgets/controls",
            "_view_module_version": "1.5.0",
            "_view_name": "HTMLView",
            "description": "",
            "description_tooltip": null,
            "layout": "IPY_MODEL_967b1f22d2334e67a079ad5ebbd2bf53",
            "placeholder": "​",
            "style": "IPY_MODEL_ff243f4a399c4aadb55047d3c45290a5",
            "value": "merges.txt: 100%"
          }
        },
        "c3bc648784534dd8bc66d37717956d72": {
          "model_module": "@jupyter-widgets/controls",
          "model_name": "FloatProgressModel",
          "model_module_version": "1.5.0",
          "state": {
            "_dom_classes": [],
            "_model_module": "@jupyter-widgets/controls",
            "_model_module_version": "1.5.0",
            "_model_name": "FloatProgressModel",
            "_view_count": null,
            "_view_module": "@jupyter-widgets/controls",
            "_view_module_version": "1.5.0",
            "_view_name": "ProgressView",
            "bar_style": "success",
            "description": "",
            "description_tooltip": null,
            "layout": "IPY_MODEL_71b90f8a800043a9a4d83c2ca2b6f2fe",
            "max": 456318,
            "min": 0,
            "orientation": "horizontal",
            "style": "IPY_MODEL_e73fb47f702f42deb55424ae73ea17e4",
            "value": 456318
          }
        },
        "bd28a27f98c449f7a84a35c8ed7bc588": {
          "model_module": "@jupyter-widgets/controls",
          "model_name": "HTMLModel",
          "model_module_version": "1.5.0",
          "state": {
            "_dom_classes": [],
            "_model_module": "@jupyter-widgets/controls",
            "_model_module_version": "1.5.0",
            "_model_name": "HTMLModel",
            "_view_count": null,
            "_view_module": "@jupyter-widgets/controls",
            "_view_module_version": "1.5.0",
            "_view_name": "HTMLView",
            "description": "",
            "description_tooltip": null,
            "layout": "IPY_MODEL_b68ce2700b784de6b3138e587aafd428",
            "placeholder": "​",
            "style": "IPY_MODEL_e412e31615c44b3da651f130827b7e01",
            "value": " 456k/456k [00:00&lt;00:00, 1.06MB/s]"
          }
        },
        "851a9f9bda8344bcb83f0233893707d8": {
          "model_module": "@jupyter-widgets/base",
          "model_name": "LayoutModel",
          "model_module_version": "1.2.0",
          "state": {
            "_model_module": "@jupyter-widgets/base",
            "_model_module_version": "1.2.0",
            "_model_name": "LayoutModel",
            "_view_count": null,
            "_view_module": "@jupyter-widgets/base",
            "_view_module_version": "1.2.0",
            "_view_name": "LayoutView",
            "align_content": null,
            "align_items": null,
            "align_self": null,
            "border": null,
            "bottom": null,
            "display": null,
            "flex": null,
            "flex_flow": null,
            "grid_area": null,
            "grid_auto_columns": null,
            "grid_auto_flow": null,
            "grid_auto_rows": null,
            "grid_column": null,
            "grid_gap": null,
            "grid_row": null,
            "grid_template_areas": null,
            "grid_template_columns": null,
            "grid_template_rows": null,
            "height": null,
            "justify_content": null,
            "justify_items": null,
            "left": null,
            "margin": null,
            "max_height": null,
            "max_width": null,
            "min_height": null,
            "min_width": null,
            "object_fit": null,
            "object_position": null,
            "order": null,
            "overflow": null,
            "overflow_x": null,
            "overflow_y": null,
            "padding": null,
            "right": null,
            "top": null,
            "visibility": null,
            "width": null
          }
        },
        "967b1f22d2334e67a079ad5ebbd2bf53": {
          "model_module": "@jupyter-widgets/base",
          "model_name": "LayoutModel",
          "model_module_version": "1.2.0",
          "state": {
            "_model_module": "@jupyter-widgets/base",
            "_model_module_version": "1.2.0",
            "_model_name": "LayoutModel",
            "_view_count": null,
            "_view_module": "@jupyter-widgets/base",
            "_view_module_version": "1.2.0",
            "_view_name": "LayoutView",
            "align_content": null,
            "align_items": null,
            "align_self": null,
            "border": null,
            "bottom": null,
            "display": null,
            "flex": null,
            "flex_flow": null,
            "grid_area": null,
            "grid_auto_columns": null,
            "grid_auto_flow": null,
            "grid_auto_rows": null,
            "grid_column": null,
            "grid_gap": null,
            "grid_row": null,
            "grid_template_areas": null,
            "grid_template_columns": null,
            "grid_template_rows": null,
            "height": null,
            "justify_content": null,
            "justify_items": null,
            "left": null,
            "margin": null,
            "max_height": null,
            "max_width": null,
            "min_height": null,
            "min_width": null,
            "object_fit": null,
            "object_position": null,
            "order": null,
            "overflow": null,
            "overflow_x": null,
            "overflow_y": null,
            "padding": null,
            "right": null,
            "top": null,
            "visibility": null,
            "width": null
          }
        },
        "ff243f4a399c4aadb55047d3c45290a5": {
          "model_module": "@jupyter-widgets/controls",
          "model_name": "DescriptionStyleModel",
          "model_module_version": "1.5.0",
          "state": {
            "_model_module": "@jupyter-widgets/controls",
            "_model_module_version": "1.5.0",
            "_model_name": "DescriptionStyleModel",
            "_view_count": null,
            "_view_module": "@jupyter-widgets/base",
            "_view_module_version": "1.2.0",
            "_view_name": "StyleView",
            "description_width": ""
          }
        },
        "71b90f8a800043a9a4d83c2ca2b6f2fe": {
          "model_module": "@jupyter-widgets/base",
          "model_name": "LayoutModel",
          "model_module_version": "1.2.0",
          "state": {
            "_model_module": "@jupyter-widgets/base",
            "_model_module_version": "1.2.0",
            "_model_name": "LayoutModel",
            "_view_count": null,
            "_view_module": "@jupyter-widgets/base",
            "_view_module_version": "1.2.0",
            "_view_name": "LayoutView",
            "align_content": null,
            "align_items": null,
            "align_self": null,
            "border": null,
            "bottom": null,
            "display": null,
            "flex": null,
            "flex_flow": null,
            "grid_area": null,
            "grid_auto_columns": null,
            "grid_auto_flow": null,
            "grid_auto_rows": null,
            "grid_column": null,
            "grid_gap": null,
            "grid_row": null,
            "grid_template_areas": null,
            "grid_template_columns": null,
            "grid_template_rows": null,
            "height": null,
            "justify_content": null,
            "justify_items": null,
            "left": null,
            "margin": null,
            "max_height": null,
            "max_width": null,
            "min_height": null,
            "min_width": null,
            "object_fit": null,
            "object_position": null,
            "order": null,
            "overflow": null,
            "overflow_x": null,
            "overflow_y": null,
            "padding": null,
            "right": null,
            "top": null,
            "visibility": null,
            "width": null
          }
        },
        "e73fb47f702f42deb55424ae73ea17e4": {
          "model_module": "@jupyter-widgets/controls",
          "model_name": "ProgressStyleModel",
          "model_module_version": "1.5.0",
          "state": {
            "_model_module": "@jupyter-widgets/controls",
            "_model_module_version": "1.5.0",
            "_model_name": "ProgressStyleModel",
            "_view_count": null,
            "_view_module": "@jupyter-widgets/base",
            "_view_module_version": "1.2.0",
            "_view_name": "StyleView",
            "bar_color": null,
            "description_width": ""
          }
        },
        "b68ce2700b784de6b3138e587aafd428": {
          "model_module": "@jupyter-widgets/base",
          "model_name": "LayoutModel",
          "model_module_version": "1.2.0",
          "state": {
            "_model_module": "@jupyter-widgets/base",
            "_model_module_version": "1.2.0",
            "_model_name": "LayoutModel",
            "_view_count": null,
            "_view_module": "@jupyter-widgets/base",
            "_view_module_version": "1.2.0",
            "_view_name": "LayoutView",
            "align_content": null,
            "align_items": null,
            "align_self": null,
            "border": null,
            "bottom": null,
            "display": null,
            "flex": null,
            "flex_flow": null,
            "grid_area": null,
            "grid_auto_columns": null,
            "grid_auto_flow": null,
            "grid_auto_rows": null,
            "grid_column": null,
            "grid_gap": null,
            "grid_row": null,
            "grid_template_areas": null,
            "grid_template_columns": null,
            "grid_template_rows": null,
            "height": null,
            "justify_content": null,
            "justify_items": null,
            "left": null,
            "margin": null,
            "max_height": null,
            "max_width": null,
            "min_height": null,
            "min_width": null,
            "object_fit": null,
            "object_position": null,
            "order": null,
            "overflow": null,
            "overflow_x": null,
            "overflow_y": null,
            "padding": null,
            "right": null,
            "top": null,
            "visibility": null,
            "width": null
          }
        },
        "e412e31615c44b3da651f130827b7e01": {
          "model_module": "@jupyter-widgets/controls",
          "model_name": "DescriptionStyleModel",
          "model_module_version": "1.5.0",
          "state": {
            "_model_module": "@jupyter-widgets/controls",
            "_model_module_version": "1.5.0",
            "_model_name": "DescriptionStyleModel",
            "_view_count": null,
            "_view_module": "@jupyter-widgets/base",
            "_view_module_version": "1.2.0",
            "_view_name": "StyleView",
            "description_width": ""
          }
        }
      }
    }
  },
  "nbformat": 4,
  "nbformat_minor": 0
}